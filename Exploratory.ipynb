{
 "cells": [
  {
   "cell_type": "code",
   "execution_count": 214,
   "id": "091a7060-6854-42b7-9309-194f225d2ff3",
   "metadata": {},
   "outputs": [],
   "source": [
    "import pandas as pd\n",
    "import datetime\n",
    "import matplotlib.pyplot as plt \n",
    "import seaborn as sns \n",
    "import numpy as np"
   ]
  },
  {
   "cell_type": "code",
   "execution_count": 215,
   "id": "dcf7fe49-6a02-4b81-957a-cbc03f4c628d",
   "metadata": {},
   "outputs": [],
   "source": [
    "data_dir ='kaggle-data/'\n",
    "\n",
    "drivers_raw_df = pd.read_csv(f'{data_dir}/drivers.csv')\n",
    "qualifying_raw_df = pd.read_csv(f'{data_dir}/qualifying.csv')\n",
    "laptimes_raw_df = pd.read_csv(f'{data_dir}/lap_times.csv')\n",
    "pitstops_raw_df = pd.read_csv(f'{data_dir}/pit_stops.csv')\n",
    "constructor_standings_raw_df = pd.read_csv(f'{data_dir}/constructor_standings.csv')\n",
    "seasons_raw_df = pd.read_csv(f'{data_dir}/seasons.csv')\n",
    "circuits_raw_df = pd.read_csv(f'{data_dir}/circuits.csv')\n",
    "constructors_raw_df = pd.read_csv(f'{data_dir}/constructors.csv')\n",
    "driver_standings_raw_df = pd.read_csv(f'{data_dir}/driver_standings.csv')\n",
    "results_raw_df = pd.read_csv(f'{data_dir}/results.csv')\n",
    "status_raw_df = pd.read_csv(f'{data_dir}/status.csv')\n",
    "races_raw_df = pd.read_csv(f'{data_dir}/races.csv')\n",
    "\n"
   ]
  },
  {
   "cell_type": "code",
   "execution_count": 216,
   "id": "71775dc4-d890-47f0-9f2a-fdd2adddec80",
   "metadata": {},
   "outputs": [],
   "source": [
    "drivers = drivers_raw_df[['driverId','forename','surname']].reset_index(drop=True)\n",
    "drivers['Name'] = drivers[['forename', 'surname']].agg(' '.join, axis=1)\n",
    "drivers.drop(['forename','surname'], axis=1, inplace=True)\n",
    "\n",
    "driver_name_id_map = dict(zip(drivers['Name'], drivers['driverId']))\n",
    "def get_driverID(name):\n",
    "    \n",
    "    return drivers.loc[drivers['Name']==name, 'driverId'].squeeze()\n",
    "\n",
    "#drivers[drivers['Name'].str.contains('Nyck')]"
   ]
  },
  {
   "cell_type": "code",
   "execution_count": 217,
   "id": "b521b7e0-509e-4fa8-9850-94428ccd1957",
   "metadata": {},
   "outputs": [],
   "source": [
    "driver_names_of_interest = ['Max Verstappen',\n",
    "                           'Sergio Pérez',\n",
    "                           'Lewis Hamilton',\n",
    "                           'Fernando Alonso',\n",
    "                           'Charles Leclerc',\n",
    "                           'Lando Norris',\n",
    "                           'George Russell',\n",
    "                           'Oscar Piastri',\n",
    "                           'Lance Stroll',\n",
    "                           'Pierre Gasly',\n",
    "                           'Esteban Ocon',\n",
    "                           'Alexander Albon',\n",
    "                           'Nico Hülkenberg',\n",
    "                           'Valtteri Bottas',\n",
    "                           'Guanyu Zhou',\n",
    "                           'Yuki Tsunoda',\n",
    "                           'Kevin Magnussen',\n",
    "                           #'Liam Lawson',\n",
    "                           'Logan Sargeant',\n",
    "                           'Nyck de Vries',\n",
    "                           'Daniel Ricciardo']\n",
    "driver_ids_of_interest = [driver_name_id_map[name] for name in driver_names_of_interest]\n"
   ]
  },
  {
   "cell_type": "code",
   "execution_count": 218,
   "id": "9639b112-9f90-4f5f-8d59-a815eaccad61",
   "metadata": {},
   "outputs": [],
   "source": [
    "races_raw_df['Date'] = pd.to_datetime(races_raw_df['date'])\n",
    "\n",
    "laptimes_raw_df.shape[0]\n",
    "laptimes = laptimes_raw_df.merge(races_raw_df[['raceId','Date']], on='raceId', how='left')\n",
    "assert laptimes.shape[0] == laptimes_raw_df.shape[0], 'confirm no duplicates formed during merge'\n",
    "\n",
    "laptimes_with_names = laptimes.merge(drivers[['driverId','Name']], on='driverId', how='left')\n",
    "assert laptimes.shape[0] == laptimes_with_names.shape[0], 'confirm no duplicates formed during merge'\n",
    "\n",
    "\n",
    "laptime_di = laptimes_with_names[laptimes_with_names['Name'].isin(driver_names_of_interest)].reset_index(drop=True)\n",
    "assert laptime_di['driverId'].nunique() == len(driver_ids_of_interest), 'confirm we have lap data for all drivers of interest'"
   ]
  },
  {
   "cell_type": "code",
   "execution_count": 219,
   "id": "4adc1ba8-4b76-4ff4-a2a2-02363c8b46ea",
   "metadata": {},
   "outputs": [
    {
     "name": "stdout",
     "output_type": "stream",
     "text": [
      "number of races: 409\n"
     ]
    }
   ],
   "source": [
    "print('number of races:', laptime_di['raceId'].nunique())"
   ]
  },
  {
   "cell_type": "code",
   "execution_count": 220,
   "id": "2548c6e2-9fa4-48d7-873e-71fc30910f7e",
   "metadata": {},
   "outputs": [
    {
     "data": {
      "text/html": [
       "<div>\n",
       "<style scoped>\n",
       "    .dataframe tbody tr th:only-of-type {\n",
       "        vertical-align: middle;\n",
       "    }\n",
       "\n",
       "    .dataframe tbody tr th {\n",
       "        vertical-align: top;\n",
       "    }\n",
       "\n",
       "    .dataframe thead th {\n",
       "        text-align: right;\n",
       "    }\n",
       "</style>\n",
       "<table border=\"1\" class=\"dataframe\">\n",
       "  <thead>\n",
       "    <tr style=\"text-align: right;\">\n",
       "      <th></th>\n",
       "      <th>raceId</th>\n",
       "      <th>driverId</th>\n",
       "      <th>lap</th>\n",
       "      <th>position</th>\n",
       "      <th>time</th>\n",
       "      <th>milliseconds</th>\n",
       "      <th>Date</th>\n",
       "      <th>Name</th>\n",
       "    </tr>\n",
       "  </thead>\n",
       "  <tbody>\n",
       "    <tr>\n",
       "      <th>0</th>\n",
       "      <td>841</td>\n",
       "      <td>1</td>\n",
       "      <td>1</td>\n",
       "      <td>2</td>\n",
       "      <td>1:40.573</td>\n",
       "      <td>100573</td>\n",
       "      <td>2011-03-27</td>\n",
       "      <td>Lewis Hamilton</td>\n",
       "    </tr>\n",
       "    <tr>\n",
       "      <th>1</th>\n",
       "      <td>841</td>\n",
       "      <td>1</td>\n",
       "      <td>2</td>\n",
       "      <td>2</td>\n",
       "      <td>1:33.774</td>\n",
       "      <td>93774</td>\n",
       "      <td>2011-03-27</td>\n",
       "      <td>Lewis Hamilton</td>\n",
       "    </tr>\n",
       "    <tr>\n",
       "      <th>2</th>\n",
       "      <td>841</td>\n",
       "      <td>1</td>\n",
       "      <td>3</td>\n",
       "      <td>2</td>\n",
       "      <td>1:32.900</td>\n",
       "      <td>92900</td>\n",
       "      <td>2011-03-27</td>\n",
       "      <td>Lewis Hamilton</td>\n",
       "    </tr>\n",
       "    <tr>\n",
       "      <th>3</th>\n",
       "      <td>841</td>\n",
       "      <td>1</td>\n",
       "      <td>4</td>\n",
       "      <td>2</td>\n",
       "      <td>1:32.582</td>\n",
       "      <td>92582</td>\n",
       "      <td>2011-03-27</td>\n",
       "      <td>Lewis Hamilton</td>\n",
       "    </tr>\n",
       "    <tr>\n",
       "      <th>4</th>\n",
       "      <td>841</td>\n",
       "      <td>1</td>\n",
       "      <td>5</td>\n",
       "      <td>2</td>\n",
       "      <td>1:32.471</td>\n",
       "      <td>92471</td>\n",
       "      <td>2011-03-27</td>\n",
       "      <td>Lewis Hamilton</td>\n",
       "    </tr>\n",
       "    <tr>\n",
       "      <th>...</th>\n",
       "      <td>...</td>\n",
       "      <td>...</td>\n",
       "      <td>...</td>\n",
       "      <td>...</td>\n",
       "      <td>...</td>\n",
       "      <td>...</td>\n",
       "      <td>...</td>\n",
       "      <td>...</td>\n",
       "    </tr>\n",
       "    <tr>\n",
       "      <th>151582</th>\n",
       "      <td>1110</td>\n",
       "      <td>817</td>\n",
       "      <td>40</td>\n",
       "      <td>17</td>\n",
       "      <td>1:54.361</td>\n",
       "      <td>114361</td>\n",
       "      <td>2023-07-30</td>\n",
       "      <td>Daniel Ricciardo</td>\n",
       "    </tr>\n",
       "    <tr>\n",
       "      <th>151583</th>\n",
       "      <td>1110</td>\n",
       "      <td>817</td>\n",
       "      <td>41</td>\n",
       "      <td>17</td>\n",
       "      <td>1:53.367</td>\n",
       "      <td>113367</td>\n",
       "      <td>2023-07-30</td>\n",
       "      <td>Daniel Ricciardo</td>\n",
       "    </tr>\n",
       "    <tr>\n",
       "      <th>151584</th>\n",
       "      <td>1110</td>\n",
       "      <td>817</td>\n",
       "      <td>42</td>\n",
       "      <td>16</td>\n",
       "      <td>1:55.247</td>\n",
       "      <td>115247</td>\n",
       "      <td>2023-07-30</td>\n",
       "      <td>Daniel Ricciardo</td>\n",
       "    </tr>\n",
       "    <tr>\n",
       "      <th>151585</th>\n",
       "      <td>1110</td>\n",
       "      <td>817</td>\n",
       "      <td>43</td>\n",
       "      <td>16</td>\n",
       "      <td>1:52.115</td>\n",
       "      <td>112115</td>\n",
       "      <td>2023-07-30</td>\n",
       "      <td>Daniel Ricciardo</td>\n",
       "    </tr>\n",
       "    <tr>\n",
       "      <th>151586</th>\n",
       "      <td>1110</td>\n",
       "      <td>817</td>\n",
       "      <td>44</td>\n",
       "      <td>16</td>\n",
       "      <td>1:52.265</td>\n",
       "      <td>112265</td>\n",
       "      <td>2023-07-30</td>\n",
       "      <td>Daniel Ricciardo</td>\n",
       "    </tr>\n",
       "  </tbody>\n",
       "</table>\n",
       "<p>151587 rows × 8 columns</p>\n",
       "</div>"
      ],
      "text/plain": [
       "        raceId  driverId  lap  position      time  milliseconds       Date  \\\n",
       "0          841         1    1         2  1:40.573        100573 2011-03-27   \n",
       "1          841         1    2         2  1:33.774         93774 2011-03-27   \n",
       "2          841         1    3         2  1:32.900         92900 2011-03-27   \n",
       "3          841         1    4         2  1:32.582         92582 2011-03-27   \n",
       "4          841         1    5         2  1:32.471         92471 2011-03-27   \n",
       "...        ...       ...  ...       ...       ...           ...        ...   \n",
       "151582    1110       817   40        17  1:54.361        114361 2023-07-30   \n",
       "151583    1110       817   41        17  1:53.367        113367 2023-07-30   \n",
       "151584    1110       817   42        16  1:55.247        115247 2023-07-30   \n",
       "151585    1110       817   43        16  1:52.115        112115 2023-07-30   \n",
       "151586    1110       817   44        16  1:52.265        112265 2023-07-30   \n",
       "\n",
       "                    Name  \n",
       "0         Lewis Hamilton  \n",
       "1         Lewis Hamilton  \n",
       "2         Lewis Hamilton  \n",
       "3         Lewis Hamilton  \n",
       "4         Lewis Hamilton  \n",
       "...                  ...  \n",
       "151582  Daniel Ricciardo  \n",
       "151583  Daniel Ricciardo  \n",
       "151584  Daniel Ricciardo  \n",
       "151585  Daniel Ricciardo  \n",
       "151586  Daniel Ricciardo  \n",
       "\n",
       "[151587 rows x 8 columns]"
      ]
     },
     "execution_count": 220,
     "metadata": {},
     "output_type": "execute_result"
    }
   ],
   "source": [
    "laptime_di"
   ]
  },
  {
   "cell_type": "code",
   "execution_count": 221,
   "id": "b9d8befc-3642-43e0-8711-b19ea387085b",
   "metadata": {},
   "outputs": [],
   "source": [
    "# check if drivers have the same number of laps per race, for all races\n",
    "n_laps_race = laptime_di.groupby(['raceId','driverId'])['lap'].max().reset_index(name='# laps')\n",
    "assert (n_laps_race.groupby(['raceId','driverId'])['# laps'].max() == n_laps_race.groupby(['raceId','driverId'])['# laps'].min()).sum() / len(n_laps_race.groupby(['raceId','driverId'])['# laps'].max()) == 1\n",
    "del n_laps_race"
   ]
  },
  {
   "cell_type": "code",
   "execution_count": 223,
   "id": "b3b94a65-d3f6-4061-b3be-9eeb125c671c",
   "metadata": {},
   "outputs": [],
   "source": [
    "def graph_race(raceId):\n",
    "    \n",
    "    sns.lineplot(data=laptime_di[laptime_di['raceId']==1106], x='lap',y='milliseconds',hue='Name')"
   ]
  },
  {
   "cell_type": "code",
   "execution_count": null,
   "id": "c289e2b2-f9ad-4fd8-ac79-24a62ddf53b9",
   "metadata": {},
   "outputs": [],
   "source": []
  },
  {
   "cell_type": "code",
   "execution_count": 212,
   "id": "ec76e08e-68e1-4b33-80d8-be0c99bedadf",
   "metadata": {},
   "outputs": [
    {
     "data": {
      "text/plain": [
       "10"
      ]
     },
     "execution_count": 212,
     "metadata": {},
     "output_type": "execute_result"
    }
   ],
   "source": [
    "idx = (laptime_di.groupby(['raceId'])['driverId'].nunique() >= 19).sum()\n",
    "idx\n",
    "#laptime_di.loc[idx]"
   ]
  },
  {
   "cell_type": "code",
   "execution_count": 201,
   "id": "bab1f24e-972c-42ed-9777-2ff44e06568b",
   "metadata": {},
   "outputs": [
    {
     "data": {
      "text/plain": [
       "dtype('<M8[ns]')"
      ]
     },
     "execution_count": 201,
     "metadata": {},
     "output_type": "execute_result"
    }
   ],
   "source": [
    "laptime_di['Date'].dtype"
   ]
  },
  {
   "cell_type": "code",
   "execution_count": 182,
   "id": "25c3bbb1-331a-4cf0-971f-15591078b056",
   "metadata": {},
   "outputs": [
    {
     "data": {
      "text/plain": [
       "2716"
      ]
     },
     "execution_count": 182,
     "metadata": {},
     "output_type": "execute_result"
    }
   ],
   "source": [
    "(n_laps_race.groupby(['raceId','driverId'])['# laps'].max() == n_laps_race.groupby(['raceId','driverId'])['# laps'].min()).sum()"
   ]
  },
  {
   "cell_type": "code",
   "execution_count": 183,
   "id": "a146e109-e4aa-4b89-939d-7dc8088580fd",
   "metadata": {},
   "outputs": [
    {
     "data": {
      "text/plain": [
       "2716"
      ]
     },
     "execution_count": 183,
     "metadata": {},
     "output_type": "execute_result"
    }
   ],
   "source": [
    "len(n_laps_race.groupby(['raceId','driverId'])['# laps'].max())"
   ]
  },
  {
   "cell_type": "code",
   "execution_count": 184,
   "id": "cbf66952-d045-47bb-b06c-0662b0d85069",
   "metadata": {},
   "outputs": [
    {
     "data": {
      "text/plain": [
       "(881, 4)"
      ]
     },
     "execution_count": 184,
     "metadata": {},
     "output_type": "execute_result"
    }
   ],
   "source": [
    "laptime_di.groupby(['raceId','driverId']).size().idxmin()"
   ]
  },
  {
   "cell_type": "code",
   "execution_count": 213,
   "id": "e0c22a6d-e140-49dc-8803-2ec3d623ba24",
   "metadata": {},
   "outputs": [
    {
     "ename": "NameError",
     "evalue": "name 'n_laps_race' is not defined",
     "output_type": "error",
     "traceback": [
      "\u001b[0;31m---------------------------------------------------------------------------\u001b[0m",
      "\u001b[0;31mNameError\u001b[0m                                 Traceback (most recent call last)",
      "\u001b[0;32m/var/folders/0_/l2f6y30903g7mz5xvt_k05mh0000gn/T/ipykernel_32008/4215783223.py\u001b[0m in \u001b[0;36m<module>\u001b[0;34m\u001b[0m\n\u001b[0;32m----> 1\u001b[0;31m \u001b[0mn_laps_race\u001b[0m\u001b[0;34m.\u001b[0m\u001b[0mgroupby\u001b[0m\u001b[0;34m(\u001b[0m\u001b[0;34m[\u001b[0m\u001b[0;34m'raceId'\u001b[0m\u001b[0;34m,\u001b[0m\u001b[0;34m'driverId'\u001b[0m\u001b[0;34m]\u001b[0m\u001b[0;34m)\u001b[0m\u001b[0;34m[\u001b[0m\u001b[0;34m'# laps'\u001b[0m\u001b[0;34m]\u001b[0m\u001b[0;34m.\u001b[0m\u001b[0mmax\u001b[0m\u001b[0;34m(\u001b[0m\u001b[0;34m)\u001b[0m\u001b[0;34m.\u001b[0m\u001b[0msize\u001b[0m\u001b[0;34m(\u001b[0m\u001b[0;34m)\u001b[0m\u001b[0;34m[\u001b[0m\u001b[0;36m0\u001b[0m\u001b[0;34m]\u001b[0m\u001b[0;34m\u001b[0m\u001b[0;34m\u001b[0m\u001b[0m\n\u001b[0m",
      "\u001b[0;31mNameError\u001b[0m: name 'n_laps_race' is not defined"
     ]
    }
   ],
   "source": [
    "n_laps_race.groupby(['raceId','driverId'])['# laps'].max().size()[0]"
   ]
  },
  {
   "cell_type": "code",
   "execution_count": null,
   "id": "437e17a3-2504-47cd-a9e7-055dc4781f1d",
   "metadata": {},
   "outputs": [],
   "source": []
  }
 ],
 "metadata": {
  "kernelspec": {
   "display_name": "tf",
   "language": "python",
   "name": "tf"
  },
  "language_info": {
   "codemirror_mode": {
    "name": "ipython",
    "version": 3
   },
   "file_extension": ".py",
   "mimetype": "text/x-python",
   "name": "python",
   "nbconvert_exporter": "python",
   "pygments_lexer": "ipython3",
   "version": "3.7.11"
  }
 },
 "nbformat": 4,
 "nbformat_minor": 5
}

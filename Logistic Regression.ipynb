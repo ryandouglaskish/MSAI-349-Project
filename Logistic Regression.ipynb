{
 "cells": [
  {
   "cell_type": "code",
   "execution_count": null,
   "metadata": {},
   "outputs": [],
   "source": []
  },
  {
   "cell_type": "markdown",
   "metadata": {},
   "source": [
    "- Features = driver + environmental variables of races\n",
    "- Target = placement in race\n",
    "\n",
    "\n",
    "\n",
    "to collect:\n",
    "- get drivers of interest\n",
    "- find races where at least two drivers were present\n",
    "    - making sure it was a valid race (e.g., the drivers crossed the finish line)\n",
    "- target for a race is the driver's weighted average of race placement and relative placement to other drivers in race???\n",
    "\n",
    "\n",
    "combine all relevant races\n",
    "\n",
    "\n"
   ]
  },
  {
   "cell_type": "markdown",
   "metadata": {},
   "source": []
  }
 ],
 "metadata": {
  "language_info": {
   "name": "python"
  }
 },
 "nbformat": 4,
 "nbformat_minor": 2
}

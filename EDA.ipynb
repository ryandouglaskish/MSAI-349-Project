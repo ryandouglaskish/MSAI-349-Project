{
 "cells": [
  {
   "cell_type": "code",
   "execution_count": 1,
   "metadata": {},
   "outputs": [],
   "source": [
    "import pandas as pd\n",
    "import datetime\n",
    "import matplotlib.pyplot as plt \n",
    "import seaborn as sns \n",
    "import numpy as np"
   ]
  },
  {
   "cell_type": "markdown",
   "metadata": {},
   "source": [
    "# List of questions\n",
    "\n",
    "- Do we have data for all drivers of interest?\n",
    "- For our drivers of interest, what are their placements?\n",
    "- Is there dominance of certain drivers over others? (i.e., will prediction of the winner be trivial?)\n",
    "    - If it is trivial, then examine if placements of drivers is variable (is there anything for the model to learn?)\n",
    "- Correlation between lap time 1 and placement, lap times 1+2 and placement, ... lap times 1-5 and placement\n",
    "- Explore our features\n",
    "    - Lap times vs. weather\n",
    "    - Compare variability of placement based on weather"
   ]
  },
  {
   "cell_type": "code",
   "execution_count": null,
   "metadata": {},
   "outputs": [],
   "source": []
  }
 ],
 "metadata": {
  "kernelspec": {
   "display_name": "Python 3",
   "language": "python",
   "name": "python3"
  },
  "language_info": {
   "codemirror_mode": {
    "name": "ipython",
    "version": 3
   },
   "file_extension": ".py",
   "mimetype": "text/x-python",
   "name": "python",
   "nbconvert_exporter": "python",
   "pygments_lexer": "ipython3",
   "version": "3.7.11"
  }
 },
 "nbformat": 4,
 "nbformat_minor": 2
}

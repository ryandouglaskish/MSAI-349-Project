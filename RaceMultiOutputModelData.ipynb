{
 "cells": [
  {
   "cell_type": "code",
   "execution_count": 2,
   "metadata": {},
   "outputs": [],
   "source": [
    "from helpers import *\n",
    "\n",
    "import pandas as pd\n",
    "pd.set_option('display.max_columns', None)\n",
    "#pd.set_option('display.max_rows', None)\n",
    "\n",
    "\n",
    "import datetime\n",
    "import matplotlib.pyplot as plt \n",
    "import seaborn as sns \n",
    "import numpy as np\n",
    "\n",
    "from sklearn.linear_model import LinearRegression, LogisticRegression, Lasso, Ridge\n",
    "from sklearn.preprocessing import MinMaxScaler\n",
    "\n",
    "from collections import OrderedDict\n",
    "from itertools import product\n",
    "\n",
    "\n",
    "\n",
    "linestyles = OrderedDict(\n",
    "    [\n",
    "\n",
    "     ('loosely dashed',      (0, (5, 20))),\n",
    "     ('dashed',              (0, (3, 2))),\n",
    "     ('densely dashed',      (0, (1, 3))),\n",
    "\n",
    "    ])"
   ]
  },
  {
   "cell_type": "markdown",
   "metadata": {},
   "source": [
    "# Data Processing"
   ]
  },
  {
   "cell_type": "markdown",
   "metadata": {},
   "source": [
    "## Importing data"
   ]
  },
  {
   "cell_type": "code",
   "execution_count": 3,
   "metadata": {},
   "outputs": [
    {
     "name": "stdout",
     "output_type": "stream",
     "text": [
      "circuits_raw_df Index(['circuitId', 'circuitRef', 'name', 'location', 'country', 'lat', 'lng',\n",
      "       'alt', 'url'],\n",
      "      dtype='object')\n",
      "constructors_raw_df Index(['constructorId', 'constructorRef', 'name', 'nationality', 'url'], dtype='object')\n",
      "constructor_standings_raw_df Index(['constructorStandingsId', 'raceId', 'constructorId', 'points',\n",
      "       'position', 'positionText', 'wins'],\n",
      "      dtype='object')\n",
      "driver_standings_raw_df Index(['driverStandingsId', 'raceId', 'driverId', 'points', 'position',\n",
      "       'positionText', 'wins'],\n",
      "      dtype='object')\n",
      "drivers_raw_df Index(['driverId', 'driverRef', 'number', 'code', 'forename', 'surname', 'dob',\n",
      "       'nationality', 'url'],\n",
      "      dtype='object')\n",
      "laptimes_raw_df Index(['raceId', 'driverId', 'lap', 'position', 'time', 'milliseconds'], dtype='object')\n",
      "pitstops_raw_df Index(['raceId', 'driverId', 'stop', 'lap', 'time', 'duration',\n",
      "       'milliseconds'],\n",
      "      dtype='object')\n",
      "qualifying_raw_df Index(['qualifyId', 'raceId', 'driverId', 'constructorId', 'number',\n",
      "       'position', 'q1', 'q2', 'q3'],\n",
      "      dtype='object')\n",
      "races_raw_df Index(['raceId', 'year', 'round', 'circuitId', 'name', 'date', 'time', 'url',\n",
      "       'fp1_date', 'fp1_time', 'fp2_date', 'fp2_time', 'fp3_date', 'fp3_time',\n",
      "       'quali_date', 'quali_time', 'sprint_date', 'sprint_time'],\n",
      "      dtype='object')\n",
      "results_raw_df Index(['resultId', 'raceId', 'driverId', 'constructorId', 'number', 'grid',\n",
      "       'position', 'positionText', 'positionOrder', 'points', 'laps', 'time',\n",
      "       'milliseconds', 'fastestLap', 'rank', 'fastestLapTime',\n",
      "       'fastestLapSpeed', 'statusId'],\n",
      "      dtype='object')\n",
      "seasons_raw_df Index(['year', 'url'], dtype='object')\n",
      "sprint_results Index(['resultId', 'raceId', 'driverId', 'constructorId', 'number', 'grid',\n",
      "       'position', 'positionText', 'positionOrder', 'points', 'laps', 'time',\n",
      "       'milliseconds', 'fastestLap', 'fastestLapTime', 'statusId'],\n",
      "      dtype='object')\n",
      "status_raw_df Index(['statusId', 'status'], dtype='object')\n"
     ]
    }
   ],
   "source": [
    "def load_kaggle_data(path):\n",
    "    data = pd.read_csv(path)\n",
    "    data.replace({'\\\\N':np.nan}, inplace=True)\n",
    "    return data\n",
    "\n",
    "data_dir ='kaggle-data/'\n",
    "\n",
    "circuits_raw_df = load_kaggle_data(f'{data_dir}/circuits.csv')\n",
    "constructors_raw_df = load_kaggle_data(f'{data_dir}/constructors.csv')\n",
    "constructor_standings_raw_df = load_kaggle_data(f'{data_dir}/constructor_standings.csv')\n",
    "driver_standings_raw_df = load_kaggle_data(f'{data_dir}/driver_standings.csv')\n",
    "drivers_raw_df = load_kaggle_data(f'{data_dir}/drivers.csv')\n",
    "laptimes_raw_df = load_kaggle_data(f'{data_dir}/lap_times.csv')\n",
    "pitstops_raw_df = load_kaggle_data(f'{data_dir}/pit_stops.csv')\n",
    "qualifying_raw_df = load_kaggle_data(f'{data_dir}/qualifying.csv')\n",
    "races_raw_df = load_kaggle_data(f'{data_dir}/races.csv')\n",
    "results_raw_df = load_kaggle_data(f'{data_dir}/results.csv')\n",
    "seasons_raw_df = load_kaggle_data(f'{data_dir}/seasons.csv')\n",
    "sprint_results = load_kaggle_data(f'{data_dir}/sprint_results.csv')\n",
    "status_raw_df = load_kaggle_data(f'{data_dir}/status.csv')\n",
    "\n",
    "print('circuits_raw_df', circuits_raw_df.columns)\n",
    "print('constructors_raw_df', constructors_raw_df.columns)\n",
    "print('constructor_standings_raw_df', constructor_standings_raw_df.columns)\n",
    "print('driver_standings_raw_df', driver_standings_raw_df.columns)\n",
    "print('drivers_raw_df', drivers_raw_df.columns)\n",
    "print('laptimes_raw_df', laptimes_raw_df.columns)\n",
    "print('pitstops_raw_df', pitstops_raw_df.columns)\n",
    "print('qualifying_raw_df', qualifying_raw_df.columns)\n",
    "print('races_raw_df', races_raw_df.columns)\n",
    "print('results_raw_df', results_raw_df.columns)\n",
    "print('seasons_raw_df', seasons_raw_df.columns)\n",
    "print('sprint_results', sprint_results.columns)\n",
    "print('status_raw_df', status_raw_df.columns)"
   ]
  },
  {
   "cell_type": "markdown",
   "metadata": {},
   "source": [
    "## Merging data\n",
    "Note: not filtering for drivers"
   ]
  },
  {
   "cell_type": "code",
   "execution_count": 4,
   "metadata": {},
   "outputs": [],
   "source": [
    "# # Process drivers data set\n",
    "\n",
    "# drivers = drivers_raw_df[['driverId','forename','surname','number']].reset_index(drop=True)\n",
    "# # Make name column\n",
    "# drivers['Name'] = drivers[['forename', 'surname']].agg(' '.join, axis=1)\n",
    "# drivers.drop(['forename','surname'], axis=1, inplace=True)\n",
    "\n",
    "# driver_name_id_map = dict(zip(drivers['Name'], drivers['driverId']))\n",
    "# def get_driverID(name):\n",
    "#     return drivers.loc[drivers['Name']==name, 'driverId'].squeeze()\n",
    "\n",
    "# driver_name_number_map = dict(zip(drivers['Name'], drivers['number']))\n",
    "# def get_driver_number(name):\n",
    "#     return drivers.loc[drivers['Name']==name, 'number'].squeeze()\n",
    "\n",
    "# driver_names_of_interest = ['Max Verstappen',\n",
    "#                            'Sergio Pérez',\n",
    "#                            'Lewis Hamilton',\n",
    "#                            'Fernando Alonso',\n",
    "#                            'Charles Leclerc',\n",
    "#                            'Lando Norris',\n",
    "#                            'George Russell',\n",
    "#                            'Oscar Piastri',\n",
    "#                            'Lance Stroll',\n",
    "#                            'Pierre Gasly',\n",
    "#                            'Esteban Ocon',\n",
    "#                            'Alexander Albon',\n",
    "#                            'Nico Hülkenberg',\n",
    "#                            'Valtteri Bottas',\n",
    "#                            'Guanyu Zhou',\n",
    "#                            'Yuki Tsunoda',\n",
    "#                            'Kevin Magnussen',\n",
    "#                            #'Liam Lawson',\n",
    "#                            'Logan Sargeant',\n",
    "#                            'Nyck de Vries',\n",
    "#                            'Daniel Ricciardo']\n",
    "# driver_ids_of_interest = [driver_name_id_map[name] for name in driver_names_of_interest]\n",
    "\n",
    "# driver_numbers_of_interest = [driver_name_number_map[name] for name in driver_names_of_interest]\n"
   ]
  },
  {
   "cell_type": "code",
   "execution_count": 5,
   "metadata": {},
   "outputs": [
    {
     "name": "stdout",
     "output_type": "stream",
     "text": [
      "First year: 1965\n",
      "# Races: 960\n"
     ]
    }
   ],
   "source": [
    "# Driver name\n",
    "drivers = drivers_raw_df[['driverId','forename','surname','number']].reset_index(drop=True)\n",
    "drivers['Name'] = drivers[['forename', 'surname']].agg(' '.join, axis=1)\n",
    "drivers.drop(['forename','surname'], axis=1, inplace=True)\n",
    "\n",
    "\n",
    "# start with race results\n",
    "# extend positionText labels (see Appendix)\n",
    "results_raw_df['positionText'] = results_raw_df['positionText'].replace({'R':'Retired','D':'Disqualified','N':'not classified', 'E':'Excluded','W':'Withdrawn','F':'failed to qualify'})\n",
    "# drop time, milliseconds, fastestLap, rank, fastestLapTime, fastestLapSpeed, and number (http://ergast.com/mrd/methods/results/)\n",
    "races = results_raw_df.drop(['time','milliseconds','fastestLap','rank','fastestLapTime','fastestLapSpeed','number'], axis=1)\n",
    "races.drop(['positionOrder'], axis=1, inplace=True)\n",
    "races['position'].fillna('NaN', inplace=True)\n",
    "#display(races.isna().sum())\n",
    "assert races.isna().sum().sum() == 0, 'there are null values'\n",
    "\n",
    "# Get race data (ignoring qualifying data)\n",
    "races_raw_df.rename(columns={'name':'Race'}, inplace=True)\n",
    "prev_len = races.shape[0]\n",
    "races = races.merge(races_raw_df[['raceId','Race','round','circuitId','date','url']], on='raceId', how='left')\n",
    "assert races.shape[0] == prev_len, 'confirm no duplicates formed during merge'\n",
    "assert races.isna().sum().sum() == 0\n",
    "\n",
    "# Explode date\n",
    "races['date'] = pd.to_datetime(races['date'])\n",
    "races['Month'] = races['date'].dt.month\n",
    "races['Year'] = races['date'].dt.year\n",
    "#races.drop(['date'], axis=1, inplace=True)\n",
    "\n",
    "# Filter year due to bad quality data in early years (multiple results reported for a driver in a race) -- see EDA for details\n",
    "races = races[races['Year']>1964].reset_index(drop=True)\n",
    "assert races.groupby(['raceId','driverId'])['position'].nunique().max()==1, 'there are multiple positions reported for a driver in a race'\n",
    "\n",
    "# Merge with drivers\n",
    "prev_len = races.shape[0]\n",
    "races = races.merge(drivers[['driverId','Name']], on='driverId', how='left')\n",
    "assert races.shape[0] == prev_len, 'confirm no duplicates formed during merge'\n",
    "assert races['Name'].isna().sum() == 0\n",
    "\n",
    "\n",
    "# # Filter for drivers of interest\n",
    "# races = races[races['Name'].isin(driver_names_of_interest)].reset_index(drop=True)\n",
    "# assert races['driverId'].nunique() == len(driver_ids_of_interest), 'confirm we have lap data for all drivers of interest'\n",
    "# #races.drop(['driverId'], axis=1, inplace=True)\n",
    "# assert races.groupby(['raceId','Name']).size().max() == 1, 'driver occurs twice in a race'\n",
    "# assert races.groupby(['raceId','driverId'])['position'].nunique().max() == 1\n",
    "\n",
    "\n",
    "# Get status string\n",
    "prev_len = races.shape[0]\n",
    "races = races.merge(status_raw_df[['statusId','status']], on='statusId', how='left')\n",
    "assert races['status'].isna().sum() == 0\n",
    "assert races.shape[0] == prev_len, 'confirm no duplicates formed during merge'\n",
    "races.drop(['statusId'], axis=1, inplace=True)\n",
    "\n",
    "\n",
    "# Get car name\n",
    "prev_len = races.shape[0]\n",
    "constructors_raw_df.rename(columns={'name':'Car'}, inplace=True)\n",
    "car_names = constructors_raw_df['Car'].unique()\n",
    "races = races.merge(constructors_raw_df[['constructorId','Car']], on='constructorId', how='left')\n",
    "assert races.shape[0] == prev_len, 'confirm no duplicates formed during merge'\n",
    "assert races['Car'].isna().sum() == 0\n",
    "races.drop(['constructorId'], axis=1, inplace=True)\n",
    "\n",
    "\n",
    "# Get circuit data\n",
    "prev_len = races.shape[0]\n",
    "circuits_raw_df.rename(columns={'name':'Circuit'}, inplace=True)\n",
    "circuits_raw_df['alt'].fillna(circuits_raw_df['alt'].median(), inplace=True) # impute median altitude -- #todo may want to change\n",
    "races = races.merge(circuits_raw_df[['circuitId','Circuit','location','country','alt','lat','lng']], on='circuitId', how='left')\n",
    "assert races.shape[0] == prev_len, 'confirm no duplicates formed during merge'\n",
    "assert races.isna().sum().sum() == 0\n",
    "races.drop(['circuitId'], axis=1, inplace=True)\n",
    "\n",
    "# Get number of laps in the race\n",
    "number_of_laps = results_raw_df[results_raw_df['statusId']==1].groupby(['raceId'])['laps'].max().reset_index(name='nlaps')\n",
    "assert races.isna().sum().sum() == 0, 'there is at least one race where none of the drivers finished -- cannot find number of laps in the race'\n",
    "prev_len = races.shape[0]\n",
    "races = races.merge(number_of_laps, on='raceId',how='left')\n",
    "assert races.shape[0] == prev_len, 'confirm no duplicates formed during merge'\n",
    "assert races.isna().sum().sum() == 0, 'there is at least one race where none of the drivers finished -- cannot find number of laps in the race'\n",
    "races.drop(['laps'], axis=1, inplace=True)\n",
    "\n",
    "\n",
    "\n",
    "# Summary\n",
    "print('First year:',  races['Year'].min())\n",
    "print('# Races:', races['raceId'].nunique())"
   ]
  },
  {
   "cell_type": "code",
   "execution_count": 6,
   "metadata": {},
   "outputs": [],
   "source": [
    "# # Race Model Filters\n",
    "\n",
    "# # filter for races with 32 or fewer drivers\n",
    "# prev_n_races = races['raceId'].nunique()\n",
    "\n",
    "# valid_races = races.groupby('raceId').size()\n",
    "# valid_races = valid_races[valid_races<=32].index\n",
    "# races = races[races['raceId'].isin(valid_races)].reset_index(drop=True)\n",
    "# print('Races removed:', prev_n_races - races['raceId'].nunique(), '({} races now)'.format(races['raceId'].nunique()))\n",
    "\n"
   ]
  },
  {
   "cell_type": "code",
   "execution_count": 7,
   "metadata": {},
   "outputs": [
    {
     "name": "stdout",
     "output_type": "stream",
     "text": [
      "Races removed: 0\n"
     ]
    }
   ],
   "source": [
    "## Dynamic race model filters\n",
    "\n",
    "# when number of race laps < k + threshold\n",
    "k = 10\n",
    "threshold = k*2\n",
    "prev_n_races = races['raceId'].nunique()\n",
    "race_counts = races['raceId'].value_counts()\n",
    "valid_races = race_counts[race_counts > 10].index\n",
    "races = races[races['raceId'].isin(valid_races)].reset_index(drop=True)\n",
    "print('Races removed:', prev_n_races - races['raceId'].nunique())"
   ]
  },
  {
   "cell_type": "code",
   "execution_count": 8,
   "metadata": {},
   "outputs": [
    {
     "name": "stdout",
     "output_type": "stream",
     "text": [
      "unique races 960\n"
     ]
    }
   ],
   "source": [
    "print('unique races', races['raceId'].nunique())"
   ]
  },
  {
   "cell_type": "markdown",
   "metadata": {},
   "source": [
    "# Model Formatting"
   ]
  },
  {
   "cell_type": "code",
   "execution_count": 12,
   "metadata": {},
   "outputs": [],
   "source": [
    "N_INPUT_LAPS = 10\n",
    "N_DRIVERS = 24\n",
    "\n",
    "# Function to fill in missing driver model positions (and finishing positions) for each raceId\n",
    "def fill_missing_entries(group):\n",
    "    existing_model_pos = set(group['driver_race_model_pos'])\n",
    "    all_model_pos = set(range(1, N_DRIVERS + 1))\n",
    "    missing_p1 = all_model_pos - existing_model_pos\n",
    "\n",
    "    # Create the missing entries with driver_race_model_pos filled with the next number and driverId with -1\n",
    "    missing_entries = pd.DataFrame(list(product([group.name], missing_p1, [-1])), columns=['raceId', 'driver_race_model_pos', 'driverId'])\n",
    "\n",
    "    # Combine the original group with the missing entries and sort by p1\n",
    "    return pd.concat([group, missing_entries]).sort_values(by='driver_race_model_pos')\n",
    "\n",
    "\n",
    "\n",
    "# for c in races.columns:\n",
    "#     print(c, races.head(1)[c].values)"
   ]
  },
  {
   "cell_type": "code",
   "execution_count": 13,
   "metadata": {},
   "outputs": [
    {
     "name": "stdout",
     "output_type": "stream",
     "text": [
      "max number drivers per race 24\n"
     ]
    }
   ],
   "source": [
    "# get laptimes (note: all races in laptimes_raw_df are in races dataframe)\n",
    "laptimes = laptimes_raw_df[laptimes_raw_df['raceId'].isin(races['raceId'].unique())].reset_index(drop=True)[['raceId','driverId','lap','position','milliseconds']]\n",
    "print('max number drivers per race', laptimes.groupby(['raceId'])['driverId'].nunique().max())\n",
    "\n",
    "# calculate driver finishing times\n",
    "driver_finishing_times = laptimes.groupby(['raceId','driverId'])['milliseconds'].sum().reset_index(name='finishing_time') # todo: fix where driver doesn't finish\n",
    "\n",
    "# filter data so that it corresponds to desired feature set\n",
    "laptimes = laptimes[laptimes['lap']<=N_INPUT_LAPS].reset_index(drop=True)\n",
    "#laptimes.melt(id_vars=['raceId','driverId','lap'], value_vars=['milliseconds'], var_name='metric', value_name='value')\n",
    "\n",
    "laptimes.drop(['position'], axis=1, inplace=True)  # NOTE: COULD DO A BASELINE MODEL JUST USING POSITION AT EACH LAP INSTEAD OF TIME\n",
    "\n",
    "# TODO: APPLY TIME SERIES TRANSFORMATIONS -- AT LEAST DO PERCENT DIFFERENCE FROM PREVIOUS LAP?\n",
    "\n",
    "laptimes['driver_race_model_pos'] = laptimes.groupby('raceId')['driverId'].transform(lambda x: pd.factorize(x)[0] + 1)\n",
    "assert laptimes['driver_race_model_pos'].max() <= N_DRIVERS\n",
    "\n",
    "# TODO: add the missing entries here -- then do a random shuffle -- base the raceId_driverId_order_filled on this\n",
    "\n",
    "# Make a table linking driverId's and their positions in the model features\n",
    "raceId_driverId_order = laptimes[['raceId','driverId','driver_race_model_pos']].drop_duplicates().reset_index(drop=True)\n",
    "raceId_driverId_order_filled = raceId_driverId_order.groupby('raceId').apply(fill_missing_entries).reset_index(drop=True)\n",
    "# Sort the dataframe by raceId and then by p1\n",
    "raceId_driverId_order_filled = raceId_driverId_order_filled.sort_values(by=['raceId', 'driver_race_model_pos']).reset_index(drop=True)\n",
    "\n",
    "# display(raceId_driverId_order.sort_values(by=['raceId','driver_race_model_pos'], ).head(48))\n",
    "# display(raceId_driverId_order_filled.head(48))\n",
    "\n",
    "#display(laptimes.head(24))"
   ]
  },
  {
   "cell_type": "code",
   "execution_count": 576,
   "metadata": {},
   "outputs": [
    {
     "name": "stdout",
     "output_type": "stream",
     "text": [
      "(454, 242)\n",
      "(56, 242)\n"
     ]
    }
   ],
   "source": [
    "# Reshape data for model input\n",
    "X = laptimes.pivot_table(index='raceId', columns=['driver_race_model_pos', 'lap'], values='milliseconds', fill_value=0)  # fill missing values with 0\n",
    "# Flatten the multi-level columns after pivot\n",
    "X.columns = ['driver{}_lap{}'.format(*col) for col in X.columns.values]\n",
    "# Reset index to turn the raceId back into a column\n",
    "X = X.reset_index()\n",
    "X = X.merge(races[['raceId','date']].drop_duplicates(), on='raceId', how='left')\n",
    "X.sort_values(by='date', inplace=True)\n",
    "X_train = X.copy(deep=True)[X['date'] < datetime.datetime(2021, 1, 1)]\n",
    "print(X_train.shape)\n",
    "X_test = X.copy(deep=True)[X['date'] > datetime.datetime(2021, 1, 1)]\n",
    "print(X_test.shape)\n",
    "X.drop(['date'], axis=1, inplace=True)\n",
    "X_train.drop(['date'], axis=1, inplace=True)\n",
    "X_test.drop(['date'], axis=1, inplace=True)\n",
    "\n",
    "X_train.to_csv('Data/RaceMultiOutputModel/X_train.csv', index=False)\n",
    "X_test.to_csv('Data/RaceMultiOutputModel/X_test.csv', index=False)\n",
    "\n",
    "#X_train = X[X['date'] < datetime.datetime(2021, 1, 1)]\n",
    "#X.to_csv('Data/RaceMultiOutputModel/X.csv', index=False)"
   ]
  },
  {
   "cell_type": "code",
   "execution_count": 528,
   "metadata": {},
   "outputs": [
    {
     "data": {
      "text/plain": [
       "Retired           2211\n",
       "6                  510\n",
       "2                  510\n",
       "1                  510\n",
       "5                  510\n",
       "3                  510\n",
       "4                  510\n",
       "7                  508\n",
       "8                  506\n",
       "9                  502\n",
       "10                 494\n",
       "11                 477\n",
       "12                 450\n",
       "13                 425\n",
       "14                 388\n",
       "15                 359\n",
       "16                 309\n",
       "17                 252\n",
       "18                 173\n",
       "19                 107\n",
       "20                  60\n",
       "Disqualified        40\n",
       "21                  30\n",
       "22                  16\n",
       "not classified      10\n",
       "23                   5\n",
       "24                   1\n",
       "Excluded             1\n",
       "Name: positionText, dtype: int64"
      ]
     },
     "metadata": {},
     "output_type": "display_data"
    },
    {
     "data": {
      "text/plain": [
       "raceId                   0\n",
       "driverId                 0\n",
       "driver_race_model_pos    0\n",
       "Y                        0\n",
       "dtype: int64"
      ]
     },
     "execution_count": 528,
     "metadata": {},
     "output_type": "execute_result"
    }
   ],
   "source": [
    "# Y = laptimes[['raceId','driverId']].drop_duplicates().reset_index(drop=True)\n",
    "# assert races.groupby(['raceId','driverId'])['position'].nunique().max() == 1, 'There should only be 1 position reported for each driver in each race'\n",
    "# print(Y.shape)\n",
    "# print(raceId_driverId_order_filled.shape)\n",
    "\n",
    "\n",
    "# start with raceId_driver_Id_order_filled (because some drivers will be in the races dataframe but not in the laptimes dataframe due to Withdrawal or failing to qualify)\n",
    "driver_model_order_finishing_positions = raceId_driverId_order_filled.copy(deep=True)\n",
    "# merge with races -- with raceId_driver_Id_order_filled on left -- to get positionText\n",
    "prev_len = driver_model_order_finishing_positions.shape[0]\n",
    "driver_model_order_finishing_positions = raceId_driverId_order_filled.merge(races[['raceId','driverId','positionText']], on=['raceId','driverId'], how='left')\n",
    "assert driver_model_order_finishing_positions.shape[0] == prev_len, 'duplicates formed during merge'\n",
    "assert driver_model_order_finishing_positions['positionText'].isin(['Withdrawn','failed to qualify']).sum() == 0, 'should not have any drivers who withdrew or failed to qualify'\n",
    "driver_model_order_finishing_positions.sort_values(by=['raceId','driver_race_model_pos']).head(25)\n",
    "\n",
    "# print(driver_model_order_finishing_positions['positionText'].unique())\n",
    "display(driver_model_order_finishing_positions['positionText'].value_counts())\n",
    "model_position_text_map = {'Retired':'25','Disqualified':'25', 'not classified':'25','Excluded':'25'}\n",
    "\n",
    "driver_model_order_finishing_positions['Y'] = driver_model_order_finishing_positions['positionText'].replace(model_position_text_map)\n",
    "driver_model_order_finishing_positions['Y'].fillna('25', inplace=True) # note: these NaNs are only there because we are creating dummy drivers for races with less than 24 drivers\n",
    "driver_model_order_finishing_positions['Y'] = driver_model_order_finishing_positions['Y'].astype(int)\n",
    "driver_model_order_finishing_positions.drop(['positionText'], axis=1, inplace=True)\n",
    "assert driver_model_order_finishing_positions.isna().sum().sum() ==0 \n",
    "\n",
    "# test case: driver 4, race 2 only has lap times for 1 lap\n",
    "driver_model_order_finishing_positions\n"
   ]
  },
  {
   "cell_type": "code",
   "execution_count": 577,
   "metadata": {},
   "outputs": [
    {
     "name": "stdout",
     "output_type": "stream",
     "text": [
      "(454, 26)\n",
      "(56, 26)\n"
     ]
    }
   ],
   "source": [
    "Y = driver_model_order_finishing_positions.pivot_table(index='raceId',columns='driver_race_model_pos',values='Y')\n",
    "Y = Y.merge(races[['raceId','date']].drop_duplicates(), on='raceId', how='left')\n",
    "\n",
    "# X = X.merge(races[['raceId','date']].drop_duplicates(), on='raceId', how='left')\n",
    "Y.sort_values(by='date', inplace=True)\n",
    "Y_train = Y.copy(deep=True)[Y['date'] < datetime.datetime(2021, 1, 1)]\n",
    "print(Y_train.shape)\n",
    "Y_test = Y.copy(deep=True)[Y['date'] > datetime.datetime(2021, 1, 1)]\n",
    "print(Y_test.shape)\n",
    "Y.drop(['date'], axis=1, inplace=True)\n",
    "Y_train.drop(['date'], axis=1, inplace=True)\n",
    "Y_test.drop(['date'], axis=1, inplace=True)\n",
    "\n",
    "Y_train.to_csv('Data/RaceMultiOutputModel/Y_train.csv', index=False)\n",
    "Y_test.to_csv('Data/RaceMultiOutputModel/Y_test.csv', index=False)\n",
    "\n",
    "# Y.to_csv('Data/RaceMultiOutputModel/Y.csv')"
   ]
  },
  {
   "cell_type": "code",
   "execution_count": 579,
   "metadata": {},
   "outputs": [],
   "source": [
    "assert (X_train['raceId'] != Y_train['raceId']).sum()==0\n",
    "assert (X_test['raceId'] != Y_test['raceId']).sum()==0"
   ]
  },
  {
   "cell_type": "markdown",
   "metadata": {},
   "source": [
    "# EDA"
   ]
  },
  {
   "cell_type": "markdown",
   "metadata": {},
   "source": [
    "## Invalid Finishing Position Analysis\n",
    "**not classified**: unknown\n",
    "\n",
    "**Retired**: When a car has to drop out of the race because of an accident or mechanical failure.\n",
    "\n",
    "**Excluded**: \n",
    "\n",
    "**Disqualified**: disqualified for violating rules\n",
    "\n",
    "**failed to qualify**: failed to qualify\n",
    "\n",
    "**Withdrawn**: withdrawn from race\n"
   ]
  },
  {
   "cell_type": "code",
   "execution_count": 474,
   "metadata": {},
   "outputs": [
    {
     "name": "stdout",
     "output_type": "stream",
     "text": [
      "==========not classified==========\n",
      "pct drivers missing laps 100%\n",
      "pct drivers no laps 94%\n",
      "==========Retired==========\n",
      "pct drivers missing laps 100%\n",
      "pct drivers no laps 68%\n",
      "==========Disqualified==========\n",
      "pct drivers missing laps 100%\n",
      "pct drivers no laps 66%\n",
      "==========Excluded==========\n",
      "pct drivers missing laps 100%\n",
      "pct drivers no laps 89%\n",
      "==========failed to qualify==========\n",
      "pct drivers missing laps 100%\n",
      "pct drivers no laps 100%\n",
      "==========Withdrawn==========\n",
      "pct drivers missing laps 100%\n",
      "pct drivers no laps 100%\n"
     ]
    }
   ],
   "source": [
    "lap_race = races[['raceId','driverId','nlaps','positionText','position']].merge(laptimes, on=['raceId','driverId'], how='left')\n",
    "lap_race['lap'].fillna(0, inplace=True)\n",
    "for positionText in ['not classified','Retired','Disqualified','Excluded','failed to qualify','Withdrawn']:\n",
    "    print('='*10 + positionText+'='*10)\n",
    "    ptlr = lap_race.loc[lap_race[lap_race['positionText']==positionText].groupby(['raceId','driverId'])['lap'].idxmax()]\n",
    "    print('pct drivers missing laps {:0.0%}'.format((ptlr['nlaps'] > ptlr['lap']).sum() / ptlr.shape[0]))\n",
    "    print('pct drivers no laps {:0.0%}'.format((ptlr['lap']==0).sum() / ptlr.shape[0]))"
   ]
  },
  {
   "cell_type": "code",
   "execution_count": null,
   "metadata": {},
   "outputs": [],
   "source": [
    "# Check excluded driver races\n",
    "idx = -2\n",
    "print(races[races['positionText']=='Excluded'].sort_values(by=['Year']).reset_index().iloc[idx].squeeze()['Name'])\n",
    "print(races[races['positionText']=='Excluded'].sort_values(by=['Year']).reset_index().iloc[idx].squeeze()['url'])"
   ]
  },
  {
   "cell_type": "markdown",
   "metadata": {},
   "source": [
    "## Duplicates by year"
   ]
  },
  {
   "cell_type": "code",
   "execution_count": 508,
   "metadata": {},
   "outputs": [
    {
     "ename": "ValueError",
     "evalue": "min() arg is an empty sequence",
     "output_type": "error",
     "traceback": [
      "\u001b[0;31m---------------------------------------------------------------------------\u001b[0m",
      "\u001b[0;31mValueError\u001b[0m                                Traceback (most recent call last)",
      "\u001b[0;32m/var/folders/0_/l2f6y30903g7mz5xvt_k05mh0000gn/T/ipykernel_72950/3074832079.py\u001b[0m in \u001b[0;36m<module>\u001b[0;34m\u001b[0m\n\u001b[1;32m      8\u001b[0m \u001b[0mraces_with_duplicates\u001b[0m \u001b[0;34m=\u001b[0m \u001b[0mraces_with_duplicates\u001b[0m\u001b[0;34m[\u001b[0m\u001b[0mraces_with_duplicates\u001b[0m\u001b[0;34m[\u001b[0m\u001b[0;34m'has_duplicates'\u001b[0m\u001b[0;34m]\u001b[0m\u001b[0;34m>\u001b[0m\u001b[0;36m0\u001b[0m\u001b[0;34m]\u001b[0m\u001b[0;34m\u001b[0m\u001b[0;34m\u001b[0m\u001b[0m\n\u001b[1;32m      9\u001b[0m \u001b[0;34m\u001b[0m\u001b[0m\n\u001b[0;32m---> 10\u001b[0;31m \u001b[0msns\u001b[0m\u001b[0;34m.\u001b[0m\u001b[0mbarplot\u001b[0m\u001b[0;34m(\u001b[0m\u001b[0mdata\u001b[0m\u001b[0;34m=\u001b[0m\u001b[0mraces_with_duplicates\u001b[0m\u001b[0;34m,\u001b[0m \u001b[0mx\u001b[0m\u001b[0;34m=\u001b[0m\u001b[0;34m'Year'\u001b[0m\u001b[0;34m,\u001b[0m \u001b[0my\u001b[0m\u001b[0;34m=\u001b[0m\u001b[0;34m'has_duplicates'\u001b[0m\u001b[0;34m)\u001b[0m\u001b[0;34m\u001b[0m\u001b[0;34m\u001b[0m\u001b[0m\n\u001b[0m\u001b[1;32m     11\u001b[0m \u001b[0;34m\u001b[0m\u001b[0m\n\u001b[1;32m     12\u001b[0m \u001b[0;34m\u001b[0m\u001b[0m\n",
      "\u001b[0;32m~/opt/anaconda3/envs/tf/lib/python3.7/site-packages/seaborn/_decorators.py\u001b[0m in \u001b[0;36minner_f\u001b[0;34m(*args, **kwargs)\u001b[0m\n\u001b[1;32m     44\u001b[0m             )\n\u001b[1;32m     45\u001b[0m         \u001b[0mkwargs\u001b[0m\u001b[0;34m.\u001b[0m\u001b[0mupdate\u001b[0m\u001b[0;34m(\u001b[0m\u001b[0;34m{\u001b[0m\u001b[0mk\u001b[0m\u001b[0;34m:\u001b[0m \u001b[0marg\u001b[0m \u001b[0;32mfor\u001b[0m \u001b[0mk\u001b[0m\u001b[0;34m,\u001b[0m \u001b[0marg\u001b[0m \u001b[0;32min\u001b[0m \u001b[0mzip\u001b[0m\u001b[0;34m(\u001b[0m\u001b[0msig\u001b[0m\u001b[0;34m.\u001b[0m\u001b[0mparameters\u001b[0m\u001b[0;34m,\u001b[0m \u001b[0margs\u001b[0m\u001b[0;34m)\u001b[0m\u001b[0;34m}\u001b[0m\u001b[0;34m)\u001b[0m\u001b[0;34m\u001b[0m\u001b[0;34m\u001b[0m\u001b[0m\n\u001b[0;32m---> 46\u001b[0;31m         \u001b[0;32mreturn\u001b[0m \u001b[0mf\u001b[0m\u001b[0;34m(\u001b[0m\u001b[0;34m**\u001b[0m\u001b[0mkwargs\u001b[0m\u001b[0;34m)\u001b[0m\u001b[0;34m\u001b[0m\u001b[0;34m\u001b[0m\u001b[0m\n\u001b[0m\u001b[1;32m     47\u001b[0m     \u001b[0;32mreturn\u001b[0m \u001b[0minner_f\u001b[0m\u001b[0;34m\u001b[0m\u001b[0;34m\u001b[0m\u001b[0m\n\u001b[1;32m     48\u001b[0m \u001b[0;34m\u001b[0m\u001b[0m\n",
      "\u001b[0;32m~/opt/anaconda3/envs/tf/lib/python3.7/site-packages/seaborn/categorical.py\u001b[0m in \u001b[0;36mbarplot\u001b[0;34m(x, y, hue, data, order, hue_order, estimator, ci, n_boot, units, seed, orient, color, palette, saturation, errcolor, errwidth, capsize, dodge, ax, **kwargs)\u001b[0m\n\u001b[1;32m   3183\u001b[0m                           \u001b[0mestimator\u001b[0m\u001b[0;34m,\u001b[0m \u001b[0mci\u001b[0m\u001b[0;34m,\u001b[0m \u001b[0mn_boot\u001b[0m\u001b[0;34m,\u001b[0m \u001b[0munits\u001b[0m\u001b[0;34m,\u001b[0m \u001b[0mseed\u001b[0m\u001b[0;34m,\u001b[0m\u001b[0;34m\u001b[0m\u001b[0;34m\u001b[0m\u001b[0m\n\u001b[1;32m   3184\u001b[0m                           \u001b[0morient\u001b[0m\u001b[0;34m,\u001b[0m \u001b[0mcolor\u001b[0m\u001b[0;34m,\u001b[0m \u001b[0mpalette\u001b[0m\u001b[0;34m,\u001b[0m \u001b[0msaturation\u001b[0m\u001b[0;34m,\u001b[0m\u001b[0;34m\u001b[0m\u001b[0;34m\u001b[0m\u001b[0m\n\u001b[0;32m-> 3185\u001b[0;31m                           errcolor, errwidth, capsize, dodge)\n\u001b[0m\u001b[1;32m   3186\u001b[0m \u001b[0;34m\u001b[0m\u001b[0m\n\u001b[1;32m   3187\u001b[0m     \u001b[0;32mif\u001b[0m \u001b[0max\u001b[0m \u001b[0;32mis\u001b[0m \u001b[0;32mNone\u001b[0m\u001b[0;34m:\u001b[0m\u001b[0;34m\u001b[0m\u001b[0;34m\u001b[0m\u001b[0m\n",
      "\u001b[0;32m~/opt/anaconda3/envs/tf/lib/python3.7/site-packages/seaborn/categorical.py\u001b[0m in \u001b[0;36m__init__\u001b[0;34m(self, x, y, hue, data, order, hue_order, estimator, ci, n_boot, units, seed, orient, color, palette, saturation, errcolor, errwidth, capsize, dodge)\u001b[0m\n\u001b[1;32m   1584\u001b[0m         self.establish_variables(x, y, hue, data, orient,\n\u001b[1;32m   1585\u001b[0m                                  order, hue_order, units)\n\u001b[0;32m-> 1586\u001b[0;31m         \u001b[0mself\u001b[0m\u001b[0;34m.\u001b[0m\u001b[0mestablish_colors\u001b[0m\u001b[0;34m(\u001b[0m\u001b[0mcolor\u001b[0m\u001b[0;34m,\u001b[0m \u001b[0mpalette\u001b[0m\u001b[0;34m,\u001b[0m \u001b[0msaturation\u001b[0m\u001b[0;34m)\u001b[0m\u001b[0;34m\u001b[0m\u001b[0;34m\u001b[0m\u001b[0m\n\u001b[0m\u001b[1;32m   1587\u001b[0m         \u001b[0mself\u001b[0m\u001b[0;34m.\u001b[0m\u001b[0mestimate_statistic\u001b[0m\u001b[0;34m(\u001b[0m\u001b[0mestimator\u001b[0m\u001b[0;34m,\u001b[0m \u001b[0mci\u001b[0m\u001b[0;34m,\u001b[0m \u001b[0mn_boot\u001b[0m\u001b[0;34m,\u001b[0m \u001b[0mseed\u001b[0m\u001b[0;34m)\u001b[0m\u001b[0;34m\u001b[0m\u001b[0;34m\u001b[0m\u001b[0m\n\u001b[1;32m   1588\u001b[0m \u001b[0;34m\u001b[0m\u001b[0m\n",
      "\u001b[0;32m~/opt/anaconda3/envs/tf/lib/python3.7/site-packages/seaborn/categorical.py\u001b[0m in \u001b[0;36mestablish_colors\u001b[0;34m(self, color, palette, saturation)\u001b[0m\n\u001b[1;32m    317\u001b[0m         \u001b[0;31m# Determine the gray color to use for the lines framing the plot\u001b[0m\u001b[0;34m\u001b[0m\u001b[0;34m\u001b[0m\u001b[0;34m\u001b[0m\u001b[0m\n\u001b[1;32m    318\u001b[0m         \u001b[0mlight_vals\u001b[0m \u001b[0;34m=\u001b[0m \u001b[0;34m[\u001b[0m\u001b[0mcolorsys\u001b[0m\u001b[0;34m.\u001b[0m\u001b[0mrgb_to_hls\u001b[0m\u001b[0;34m(\u001b[0m\u001b[0;34m*\u001b[0m\u001b[0mc\u001b[0m\u001b[0;34m)\u001b[0m\u001b[0;34m[\u001b[0m\u001b[0;36m1\u001b[0m\u001b[0;34m]\u001b[0m \u001b[0;32mfor\u001b[0m \u001b[0mc\u001b[0m \u001b[0;32min\u001b[0m \u001b[0mrgb_colors\u001b[0m\u001b[0;34m]\u001b[0m\u001b[0;34m\u001b[0m\u001b[0;34m\u001b[0m\u001b[0m\n\u001b[0;32m--> 319\u001b[0;31m         \u001b[0mlum\u001b[0m \u001b[0;34m=\u001b[0m \u001b[0mmin\u001b[0m\u001b[0;34m(\u001b[0m\u001b[0mlight_vals\u001b[0m\u001b[0;34m)\u001b[0m \u001b[0;34m*\u001b[0m \u001b[0;36m.6\u001b[0m\u001b[0;34m\u001b[0m\u001b[0;34m\u001b[0m\u001b[0m\n\u001b[0m\u001b[1;32m    320\u001b[0m         \u001b[0mgray\u001b[0m \u001b[0;34m=\u001b[0m \u001b[0mmpl\u001b[0m\u001b[0;34m.\u001b[0m\u001b[0mcolors\u001b[0m\u001b[0;34m.\u001b[0m\u001b[0mrgb2hex\u001b[0m\u001b[0;34m(\u001b[0m\u001b[0;34m(\u001b[0m\u001b[0mlum\u001b[0m\u001b[0;34m,\u001b[0m \u001b[0mlum\u001b[0m\u001b[0;34m,\u001b[0m \u001b[0mlum\u001b[0m\u001b[0;34m)\u001b[0m\u001b[0;34m)\u001b[0m\u001b[0;34m\u001b[0m\u001b[0;34m\u001b[0m\u001b[0m\n\u001b[1;32m    321\u001b[0m \u001b[0;34m\u001b[0m\u001b[0m\n",
      "\u001b[0;31mValueError\u001b[0m: min() arg is an empty sequence"
     ]
    }
   ],
   "source": [
    "# races with > result for a driver\n",
    "has_duplicates = (races.groupby(['raceId','driverId'])['position'].nunique().sort_values(ascending=False) > 1).reset_index(name='has_duplicates')\n",
    "has_duplicates['has_duplicates'] = has_duplicates['has_duplicates'].astype(int)\n",
    "has_duplicates = has_duplicates[['raceId','has_duplicates']]\n",
    "races_with_duplicates = races.merge(has_duplicates, on='raceId', how='left')\n",
    "\n",
    "races_with_duplicates = races_with_duplicates.groupby(['Year','raceId'])['has_duplicates'].max().reset_index()\n",
    "races_with_duplicates = races_with_duplicates[races_with_duplicates['has_duplicates']>0]\n",
    "\n",
    "sns.barplot(data=races_with_duplicates, x='Year', y='has_duplicates')\n",
    "\n",
    "\n",
    "# example\n",
    "# results_raw_df.loc[(results_raw_df['raceId']==792) & (results_raw_df['driverId']==427),]"
   ]
  },
  {
   "cell_type": "markdown",
   "metadata": {},
   "source": [
    "## Number of Drivers"
   ]
  },
  {
   "cell_type": "code",
   "execution_count": 14,
   "metadata": {},
   "outputs": [
    {
     "data": {
      "text/plain": [
       "<AxesSubplot:xlabel='n_drivers', ylabel='Count'>"
      ]
     },
     "execution_count": 14,
     "metadata": {},
     "output_type": "execute_result"
    },
    {
     "data": {
      "image/png": "[encoded data removed]",
      "text/plain": [
       "<Figure size 504x216 with 1 Axes>"
      ]
     },
     "metadata": {
      "needs_background": "light"
     },
     "output_type": "display_data"
    }
   ],
   "source": [
    "drivers_per_race = laptimes[['raceId','driverId']].drop_duplicates().groupby(['raceId'])['driverId'].nunique().reset_index(name='n_drivers')\n",
    "fig, ax = plt.subplots(figsize=(7, 3))\n",
    "sns.histplot(data=drivers_per_race,x='n_drivers',bins=20)"
   ]
  },
  {
   "cell_type": "code",
   "execution_count": 19,
   "metadata": {},
   "outputs": [
    {
     "data": {
      "text/plain": [
       "Text(0.5, 1.0, 'Number of Races By Maximum Number of Drivers')"
      ]
     },
     "execution_count": 19,
     "metadata": {},
     "output_type": "execute_result"
    },
    {
     "data": {
      "image/png": "[encoded data removed]",
      "text/plain": [
       "<Figure size 720x360 with 1 Axes>"
      ]
     },
     "metadata": {
      "needs_background": "light"
     },
     "output_type": "display_data"
    }
   ],
   "source": [
    "drivers_per_race = laptimes[['raceId','driverId']].drop_duplicates().groupby(['raceId'])['driverId'].nunique().reset_index(name='n_drivers')\n",
    "n_races_n_drivers = drivers_per_race.groupby('n_drivers')['raceId'].nunique().reset_index(name='n_races')\n",
    "n_races_n_drivers = n_races_n_drivers.sort_values(by='n_drivers', ascending=True)\n",
    "n_races_n_drivers['cum_n_races'] = n_races_n_drivers['n_races'].cumsum()\n",
    "\n",
    "fig,ax = plt.subplots(figsize=(10, 5))\n",
    "lineplot = sns.lineplot(data=n_races_n_drivers, x='n_drivers',y='cum_n_races')\n",
    "ax.set(xlabel='Max Drivers / Race Considered', ylabel='Number of Races Included')\n",
    "plt.xlim(9,25)\n",
    "plt.ylim(0,1400)\n",
    "\n",
    "adj_x = [1, 3, 2, 2]\n",
    "adj_y = [200, 200, 200, 240]\n",
    "\n",
    "min_drvs_list = [16,20,22,24]\n",
    "for min_drvs in min_drvs_list:\n",
    "\n",
    "    cum_races = n_races_n_drivers.loc[n_races_n_drivers['n_drivers']==min_drvs, 'cum_n_races'].squeeze()\n",
    "    \n",
    "    ax.hlines(y=cum_races, xmin=0, xmax=min_drvs, linewidth=2, linestyle=linestyles['dashed'], color='r')\n",
    " \n",
    "    ax.vlines(x=min_drvs, ymin=0, ymax=cum_races, linewidth=2, linestyle=linestyles['dashed'], color='r')\n",
    "    ax.annotate('({} races, {} min drivers)'.format(cum_races, min_drvs), xy =(min_drvs, cum_races),\n",
    "                        xytext =(min_drvs - 7, cum_races + adj_y.pop(0)), \n",
    "                     arrowprops = dict(facecolor ='r',\n",
    "                                           shrink = 0.),)\n",
    "\n",
    "plt.title('Number of Races By Maximum Number of Drivers')"
   ]
  },
  {
   "cell_type": "code",
   "execution_count": 135,
   "metadata": {},
   "outputs": [],
   "source": [
    "# drivers_per_race = races.groupby(['raceId'])['Name'].nunique().reset_index(name='n_drivers')\n",
    "# n_races_n_drivers = drivers_per_race.groupby('n_drivers')['raceId'].nunique().reset_index(name='n_races')\n",
    "# n_races_n_drivers = n_races_n_drivers.sort_values(by='n_drivers', ascending=False)\n",
    "# n_races_n_drivers['cum_n_races'] = n_races_n_drivers['n_races'].cumsum()\n",
    "\n",
    "# fig,ax = plt.subplots()\n",
    "# lineplot = sns.lineplot(data=n_races_n_drivers, x='n_drivers',y='cum_n_races')\n",
    "# ax.set(xlabel='Minimum number of Drivers / Race', ylabel='Number of Races')\n",
    "# plt.xlim(9,35)\n",
    "# plt.ylim(0,1500)\n",
    "\n",
    "# adj_x = [1, 3, 5, 2]\n",
    "# adj_y = [240, 170, 100, 100]\n",
    "\n",
    "# min_drvs_list = [10,15,20,30]\n",
    "# for min_drvs in min_drvs_list:\n",
    "\n",
    "#     cum_races = n_races_n_drivers.loc[n_races_n_drivers['n_drivers']==min_drvs, 'cum_n_races'].squeeze()\n",
    "    \n",
    "#     ax.hlines(y=cum_races, xmin=min(min_drvs_list), xmax=min_drvs, linewidth=2, linestyle=linestyles['dashed'], color='r')\n",
    " \n",
    "#     if min_drvs != min(min_drvs_list):\n",
    "#         ax.vlines(x=min_drvs, ymin=0, ymax=cum_races, linewidth=2, linestyle=linestyles['dashed'], color='r')\n",
    "#     ax.annotate('({} races, {} min drivers)'.format(cum_races, min_drvs), xy =(min_drvs, cum_races),\n",
    "#                         xytext =(min_drvs + adj_x.pop(0), cum_races + adj_y.pop(0)), \n",
    "#                      arrowprops = dict(facecolor ='r',\n",
    "#                                            shrink = 0.),)\n",
    "\n",
    "# plt.title('Number of Races By Minimum Number of Drivers Required For Modeling')"
   ]
  },
  {
   "cell_type": "code",
   "execution_count": 97,
   "metadata": {},
   "outputs": [
    {
     "data": {
      "text/html": [
       "<div>\n",
       "<style scoped>\n",
       "    .dataframe tbody tr th:only-of-type {\n",
       "        vertical-align: middle;\n",
       "    }\n",
       "\n",
       "    .dataframe tbody tr th {\n",
       "        vertical-align: top;\n",
       "    }\n",
       "\n",
       "    .dataframe thead th {\n",
       "        text-align: right;\n",
       "    }\n",
       "</style>\n",
       "<table border=\"1\" class=\"dataframe\">\n",
       "  <thead>\n",
       "    <tr style=\"text-align: right;\">\n",
       "      <th></th>\n",
       "      <th>n_drivers</th>\n",
       "      <th>n_races</th>\n",
       "      <th>cum_n_races</th>\n",
       "    </tr>\n",
       "  </thead>\n",
       "  <tbody>\n",
       "    <tr>\n",
       "      <th>24</th>\n",
       "      <td>33</td>\n",
       "      <td>1</td>\n",
       "      <td>1</td>\n",
       "    </tr>\n",
       "    <tr>\n",
       "      <th>23</th>\n",
       "      <td>31</td>\n",
       "      <td>1</td>\n",
       "      <td>2</td>\n",
       "    </tr>\n",
       "    <tr>\n",
       "      <th>22</th>\n",
       "      <td>26</td>\n",
       "      <td>1</td>\n",
       "      <td>3</td>\n",
       "    </tr>\n",
       "    <tr>\n",
       "      <th>21</th>\n",
       "      <td>25</td>\n",
       "      <td>1</td>\n",
       "      <td>4</td>\n",
       "    </tr>\n",
       "    <tr>\n",
       "      <th>20</th>\n",
       "      <td>24</td>\n",
       "      <td>1</td>\n",
       "      <td>5</td>\n",
       "    </tr>\n",
       "    <tr>\n",
       "      <th>19</th>\n",
       "      <td>23</td>\n",
       "      <td>4</td>\n",
       "      <td>9</td>\n",
       "    </tr>\n",
       "    <tr>\n",
       "      <th>18</th>\n",
       "      <td>22</td>\n",
       "      <td>12</td>\n",
       "      <td>21</td>\n",
       "    </tr>\n",
       "    <tr>\n",
       "      <th>17</th>\n",
       "      <td>21</td>\n",
       "      <td>15</td>\n",
       "      <td>36</td>\n",
       "    </tr>\n",
       "    <tr>\n",
       "      <th>16</th>\n",
       "      <td>20</td>\n",
       "      <td>33</td>\n",
       "      <td>69</td>\n",
       "    </tr>\n",
       "    <tr>\n",
       "      <th>15</th>\n",
       "      <td>19</td>\n",
       "      <td>59</td>\n",
       "      <td>128</td>\n",
       "    </tr>\n",
       "    <tr>\n",
       "      <th>14</th>\n",
       "      <td>18</td>\n",
       "      <td>77</td>\n",
       "      <td>205</td>\n",
       "    </tr>\n",
       "    <tr>\n",
       "      <th>13</th>\n",
       "      <td>17</td>\n",
       "      <td>105</td>\n",
       "      <td>310</td>\n",
       "    </tr>\n",
       "    <tr>\n",
       "      <th>12</th>\n",
       "      <td>16</td>\n",
       "      <td>92</td>\n",
       "      <td>402</td>\n",
       "    </tr>\n",
       "    <tr>\n",
       "      <th>11</th>\n",
       "      <td>15</td>\n",
       "      <td>90</td>\n",
       "      <td>492</td>\n",
       "    </tr>\n",
       "    <tr>\n",
       "      <th>10</th>\n",
       "      <td>14</td>\n",
       "      <td>80</td>\n",
       "      <td>572</td>\n",
       "    </tr>\n",
       "    <tr>\n",
       "      <th>9</th>\n",
       "      <td>13</td>\n",
       "      <td>112</td>\n",
       "      <td>684</td>\n",
       "    </tr>\n",
       "    <tr>\n",
       "      <th>8</th>\n",
       "      <td>12</td>\n",
       "      <td>90</td>\n",
       "      <td>774</td>\n",
       "    </tr>\n",
       "    <tr>\n",
       "      <th>7</th>\n",
       "      <td>11</td>\n",
       "      <td>91</td>\n",
       "      <td>865</td>\n",
       "    </tr>\n",
       "    <tr>\n",
       "      <th>6</th>\n",
       "      <td>10</td>\n",
       "      <td>88</td>\n",
       "      <td>953</td>\n",
       "    </tr>\n",
       "    <tr>\n",
       "      <th>5</th>\n",
       "      <td>9</td>\n",
       "      <td>54</td>\n",
       "      <td>1007</td>\n",
       "    </tr>\n",
       "    <tr>\n",
       "      <th>4</th>\n",
       "      <td>8</td>\n",
       "      <td>37</td>\n",
       "      <td>1044</td>\n",
       "    </tr>\n",
       "    <tr>\n",
       "      <th>3</th>\n",
       "      <td>7</td>\n",
       "      <td>21</td>\n",
       "      <td>1065</td>\n",
       "    </tr>\n",
       "    <tr>\n",
       "      <th>2</th>\n",
       "      <td>6</td>\n",
       "      <td>18</td>\n",
       "      <td>1083</td>\n",
       "    </tr>\n",
       "    <tr>\n",
       "      <th>1</th>\n",
       "      <td>5</td>\n",
       "      <td>7</td>\n",
       "      <td>1090</td>\n",
       "    </tr>\n",
       "    <tr>\n",
       "      <th>0</th>\n",
       "      <td>4</td>\n",
       "      <td>1</td>\n",
       "      <td>1091</td>\n",
       "    </tr>\n",
       "  </tbody>\n",
       "</table>\n",
       "</div>"
      ],
      "text/plain": [
       "    n_drivers  n_races  cum_n_races\n",
       "24         33        1            1\n",
       "23         31        1            2\n",
       "22         26        1            3\n",
       "21         25        1            4\n",
       "20         24        1            5\n",
       "19         23        4            9\n",
       "18         22       12           21\n",
       "17         21       15           36\n",
       "16         20       33           69\n",
       "15         19       59          128\n",
       "14         18       77          205\n",
       "13         17      105          310\n",
       "12         16       92          402\n",
       "11         15       90          492\n",
       "10         14       80          572\n",
       "9          13      112          684\n",
       "8          12       90          774\n",
       "7          11       91          865\n",
       "6          10       88          953\n",
       "5           9       54         1007\n",
       "4           8       37         1044\n",
       "3           7       21         1065\n",
       "2           6       18         1083\n",
       "1           5        7         1090\n",
       "0           4        1         1091"
      ]
     },
     "execution_count": 97,
     "metadata": {},
     "output_type": "execute_result"
    }
   ],
   "source": [
    "n_races_n_drivers"
   ]
  },
  {
   "cell_type": "code",
   "execution_count": 98,
   "metadata": {},
   "outputs": [],
   "source": [
    "races_finished_only = races.copy(deep=True)\n",
    "races_finished_only['position'] = races_finished_only['position'].astype(float)\n",
    "races_finished_only = races_finished_only[races_finished_only['position'].notnull()].reset_index(drop=True)\n",
    "drivers_per_race = races_finished_only.groupby(['raceId'])['Name'].nunique().reset_index(name='n_drivers')\n",
    "n_races_n_drivers = drivers_per_race.groupby('n_drivers')['raceId'].nunique().reset_index(name='n_races')\n",
    "n_races_n_drivers = n_races_n_drivers.sort_values(by='n_drivers', ascending=False)\n",
    "n_races_n_drivers['cum_n_races'] = n_races_n_drivers['n_races'].cumsum()\n"
   ]
  },
  {
   "cell_type": "code",
   "execution_count": 104,
   "metadata": {},
   "outputs": [],
   "source": [
    "\n",
    "# races_finished_only = races.copy(deep=True)\n",
    "# races_finished_only['position'] = races_finished_only['position'].astype(float)\n",
    "# races_finished_only = races_finished_only[races_finished_only['position'].notnull()].reset_index(drop=True)\n",
    "# drivers_per_race = races_finished_only.groupby(['raceId'])['Name'].nunique().reset_index(name='n_drivers')\n",
    "# n_races_n_drivers = drivers_per_race.groupby('n_drivers')['raceId'].nunique().reset_index(name='n_races')\n",
    "# n_races_n_drivers = n_races_n_drivers.sort_values(by='n_drivers', ascending=False)\n",
    "# n_races_n_drivers['cum_n_races'] = n_races_n_drivers['n_races'].cumsum()\n",
    "\n",
    "\n",
    "# fig,ax = plt.subplots()\n",
    "# lineplot = sns.lineplot(data=n_races_n_drivers, x='n_drivers',y='cum_n_races')\n",
    "# ax.set(xlabel='Minimum number of Drivers / Race', ylabel='Number of Races')\n",
    "# plt.xlim(9,35)\n",
    "# plt.ylim(0,1500)\n",
    "\n",
    "# adj_x = [1, 3, 5, 2]\n",
    "# adj_y = [240, 170, 100, 100]\n",
    "\n",
    "# min_drvs_list = [10,15,20]\n",
    "# for min_drvs in min_drvs_list:\n",
    "\n",
    "#     cum_races = n_races_n_drivers.loc[n_races_n_drivers['n_drivers']==min_drvs, 'cum_n_races'].squeeze()\n",
    "    \n",
    "#     ax.hlines(y=cum_races, xmin=min(min_drvs_list), xmax=min_drvs, linewidth=2, linestyle=linestyles['dashed'], color='r')\n",
    " \n",
    "#     if min_drvs != min(min_drvs_list):\n",
    "#         ax.vlines(x=min_drvs, ymin=0, ymax=cum_races, linewidth=2, linestyle=linestyles['dashed'], color='r')\n",
    "#     ax.annotate('({} races, {} min drivers)'.format(cum_races, min_drvs), xy =(min_drvs, cum_races),\n",
    "#                         xytext =(min_drvs + adj_x.pop(0), cum_races + adj_y.pop(0)), \n",
    "#                      arrowprops = dict(facecolor ='r',\n",
    "#                                            shrink = 0.),)\n",
    "\n",
    "# plt.title('Number of Races By Minimum Number of Drivers Required For Modeling (remove non-finishes)')"
   ]
  },
  {
   "cell_type": "code",
   "execution_count": null,
   "metadata": {},
   "outputs": [],
   "source": []
  }
 ],
 "metadata": {
  "kernelspec": {
   "display_name": "Python 3",
   "language": "python",
   "name": "python3"
  },
  "language_info": {
   "codemirror_mode": {
    "name": "ipython",
    "version": 3
   },
   "file_extension": ".py",
   "mimetype": "text/x-python",
   "name": "python",
   "nbconvert_exporter": "python",
   "pygments_lexer": "ipython3",
   "version": "3.7.11"
  }
 },
 "nbformat": 4,
 "nbformat_minor": 2
}

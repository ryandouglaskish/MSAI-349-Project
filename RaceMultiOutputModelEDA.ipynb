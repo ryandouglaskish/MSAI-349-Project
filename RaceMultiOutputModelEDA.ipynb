{
 "cells": [
  {
   "cell_type": "code",
   "execution_count": 2,
   "metadata": {},
   "outputs": [],
   "source": [
    "from helpers import *\n",
    "\n",
    "import shutil\n",
    "\n",
    "\n",
    "import pandas as pd\n",
    "pd.set_option('display.max_columns', None)\n",
    "#pd.set_option('display.max_rows', None)\n",
    "\n",
    "\n",
    "import datetime\n",
    "import matplotlib.pyplot as plt \n",
    "import seaborn as sns \n",
    "import numpy as np\n",
    "\n",
    "from sklearn.linear_model import LinearRegression, LogisticRegression, Lasso, Ridge\n",
    "from sklearn.preprocessing import MinMaxScaler\n",
    "from sklearn.model_selection import train_test_split\n",
    "\n",
    "\n",
    "from collections import OrderedDict\n",
    "from itertools import product\n",
    "\n",
    "\n",
    "\n",
    "linestyles = OrderedDict(\n",
    "    [\n",
    "\n",
    "     ('loosely dashed',      (0, (5, 20))),\n",
    "     ('dashed',              (0, (3, 2))),\n",
    "     ('densely dashed',      (0, (1, 3))),\n",
    "\n",
    "    ])"
   ]
  },
  {
   "cell_type": "markdown",
   "metadata": {},
   "source": [
    "# Data Processing"
   ]
  },
  {
   "cell_type": "markdown",
   "metadata": {},
   "source": [
    "## Importing data"
   ]
  },
  {
   "cell_type": "code",
   "execution_count": 3,
   "metadata": {},
   "outputs": [
    {
     "name": "stdout",
     "output_type": "stream",
     "text": [
      "circuits_raw_df Index(['circuitId', 'circuitRef', 'name', 'location', 'country', 'lat', 'lng',\n",
      "       'alt', 'url'],\n",
      "      dtype='object')\n",
      "constructors_raw_df Index(['constructorId', 'constructorRef', 'name', 'nationality', 'url'], dtype='object')\n",
      "constructor_standings_raw_df Index(['constructorStandingsId', 'raceId', 'constructorId', 'points',\n",
      "       'position', 'positionText', 'wins'],\n",
      "      dtype='object')\n",
      "driver_standings_raw_df Index(['driverStandingsId', 'raceId', 'driverId', 'points', 'position',\n",
      "       'positionText', 'wins'],\n",
      "      dtype='object')\n",
      "drivers_raw_df Index(['driverId', 'driverRef', 'number', 'code', 'forename', 'surname', 'dob',\n",
      "       'nationality', 'url'],\n",
      "      dtype='object')\n",
      "laptimes_raw_df Index(['raceId', 'driverId', 'lap', 'position', 'time', 'milliseconds'], dtype='object')\n",
      "pitstops_raw_df Index(['raceId', 'driverId', 'stop', 'lap', 'time', 'duration',\n",
      "       'milliseconds'],\n",
      "      dtype='object')\n",
      "qualifying_raw_df Index(['qualifyId', 'raceId', 'driverId', 'constructorId', 'number',\n",
      "       'position', 'q1', 'q2', 'q3'],\n",
      "      dtype='object')\n",
      "races_raw_df Index(['raceId', 'year', 'round', 'circuitId', 'name', 'date', 'time', 'url',\n",
      "       'fp1_date', 'fp1_time', 'fp2_date', 'fp2_time', 'fp3_date', 'fp3_time',\n",
      "       'quali_date', 'quali_time', 'sprint_date', 'sprint_time'],\n",
      "      dtype='object')\n",
      "results_raw_df Index(['resultId', 'raceId', 'driverId', 'constructorId', 'number', 'grid',\n",
      "       'position', 'positionText', 'positionOrder', 'points', 'laps', 'time',\n",
      "       'milliseconds', 'fastestLap', 'rank', 'fastestLapTime',\n",
      "       'fastestLapSpeed', 'statusId'],\n",
      "      dtype='object')\n",
      "seasons_raw_df Index(['year', 'url'], dtype='object')\n",
      "sprint_results Index(['resultId', 'raceId', 'driverId', 'constructorId', 'number', 'grid',\n",
      "       'position', 'positionText', 'positionOrder', 'points', 'laps', 'time',\n",
      "       'milliseconds', 'fastestLap', 'fastestLapTime', 'statusId'],\n",
      "      dtype='object')\n",
      "status_raw_df Index(['statusId', 'status'], dtype='object')\n"
     ]
    }
   ],
   "source": [
    "def load_kaggle_data(path):\n",
    "    data = pd.read_csv(path)\n",
    "    data.replace({'\\\\N':np.nan}, inplace=True)\n",
    "    return data\n",
    "\n",
    "data_dir ='kaggle-data/'\n",
    "\n",
    "circuits_raw_df = load_kaggle_data(f'{data_dir}/circuits.csv')\n",
    "constructors_raw_df = load_kaggle_data(f'{data_dir}/constructors.csv')\n",
    "constructor_standings_raw_df = load_kaggle_data(f'{data_dir}/constructor_standings.csv')\n",
    "driver_standings_raw_df = load_kaggle_data(f'{data_dir}/driver_standings.csv')\n",
    "drivers_raw_df = load_kaggle_data(f'{data_dir}/drivers.csv')\n",
    "laptimes_raw_df = load_kaggle_data(f'{data_dir}/lap_times.csv')\n",
    "pitstops_raw_df = load_kaggle_data(f'{data_dir}/pit_stops.csv')\n",
    "qualifying_raw_df = load_kaggle_data(f'{data_dir}/qualifying.csv')\n",
    "races_raw_df = load_kaggle_data(f'{data_dir}/races.csv')\n",
    "results_raw_df = load_kaggle_data(f'{data_dir}/results.csv')\n",
    "seasons_raw_df = load_kaggle_data(f'{data_dir}/seasons.csv')\n",
    "sprint_results = load_kaggle_data(f'{data_dir}/sprint_results.csv')\n",
    "status_raw_df = load_kaggle_data(f'{data_dir}/status.csv')\n",
    "\n",
    "print('circuits_raw_df', circuits_raw_df.columns)\n",
    "print('constructors_raw_df', constructors_raw_df.columns)\n",
    "print('constructor_standings_raw_df', constructor_standings_raw_df.columns)\n",
    "print('driver_standings_raw_df', driver_standings_raw_df.columns)\n",
    "print('drivers_raw_df', drivers_raw_df.columns)\n",
    "print('laptimes_raw_df', laptimes_raw_df.columns)\n",
    "print('pitstops_raw_df', pitstops_raw_df.columns)\n",
    "print('qualifying_raw_df', qualifying_raw_df.columns)\n",
    "print('races_raw_df', races_raw_df.columns)\n",
    "print('results_raw_df', results_raw_df.columns)\n",
    "print('seasons_raw_df', seasons_raw_df.columns)\n",
    "print('sprint_results', sprint_results.columns)\n",
    "print('status_raw_df', status_raw_df.columns)"
   ]
  },
  {
   "cell_type": "markdown",
   "metadata": {},
   "source": [
    "## Merging data\n",
    "Note: not filtering for drivers"
   ]
  },
  {
   "cell_type": "code",
   "execution_count": 4,
   "metadata": {},
   "outputs": [],
   "source": [
    "# # Process drivers data set\n",
    "\n",
    "# drivers = drivers_raw_df[['driverId','forename','surname','number']].reset_index(drop=True)\n",
    "# # Make name column\n",
    "# drivers['Name'] = drivers[['forename', 'surname']].agg(' '.join, axis=1)\n",
    "# drivers.drop(['forename','surname'], axis=1, inplace=True)\n",
    "\n",
    "# driver_name_id_map = dict(zip(drivers['Name'], drivers['driverId']))\n",
    "# def get_driverID(name):\n",
    "#     return drivers.loc[drivers['Name']==name, 'driverId'].squeeze()\n",
    "\n",
    "# driver_name_number_map = dict(zip(drivers['Name'], drivers['number']))\n",
    "# def get_driver_number(name):\n",
    "#     return drivers.loc[drivers['Name']==name, 'number'].squeeze()\n",
    "\n",
    "# driver_names_of_interest = ['Max Verstappen',\n",
    "#                            'Sergio Pérez',\n",
    "#                            'Lewis Hamilton',\n",
    "#                            'Fernando Alonso',\n",
    "#                            'Charles Leclerc',\n",
    "#                            'Lando Norris',\n",
    "#                            'George Russell',\n",
    "#                            'Oscar Piastri',\n",
    "#                            'Lance Stroll',\n",
    "#                            'Pierre Gasly',\n",
    "#                            'Esteban Ocon',\n",
    "#                            'Alexander Albon',\n",
    "#                            'Nico Hülkenberg',\n",
    "#                            'Valtteri Bottas',\n",
    "#                            'Guanyu Zhou',\n",
    "#                            'Yuki Tsunoda',\n",
    "#                            'Kevin Magnussen',\n",
    "#                            #'Liam Lawson',\n",
    "#                            'Logan Sargeant',\n",
    "#                            'Nyck de Vries',\n",
    "#                            'Daniel Ricciardo']\n",
    "# driver_ids_of_interest = [driver_name_id_map[name] for name in driver_names_of_interest]\n",
    "\n",
    "# driver_numbers_of_interest = [driver_name_number_map[name] for name in driver_names_of_interest]\n"
   ]
  },
  {
   "cell_type": "code",
   "execution_count": 5,
   "metadata": {},
   "outputs": [
    {
     "name": "stdout",
     "output_type": "stream",
     "text": [
      "First year: 1965\n",
      "# Races: 960\n"
     ]
    }
   ],
   "source": [
    "# Driver name\n",
    "drivers = drivers_raw_df[['driverId','forename','surname','number']].reset_index(drop=True)\n",
    "drivers['Name'] = drivers[['forename', 'surname']].agg(' '.join, axis=1)\n",
    "drivers.drop(['forename','surname'], axis=1, inplace=True)\n",
    "\n",
    "\n",
    "# start with race results\n",
    "# extend positionText labels (see Appendix)\n",
    "results_raw_df['positionText'] = results_raw_df['positionText'].replace({'R':'Retired','D':'Disqualified','N':'not classified', 'E':'Excluded','W':'Withdrawn','F':'failed to qualify'})\n",
    "# drop time, milliseconds, fastestLap, rank, fastestLapTime, fastestLapSpeed, and number (http://ergast.com/mrd/methods/results/)\n",
    "races = results_raw_df.drop(['time','milliseconds','fastestLap','rank','fastestLapTime','fastestLapSpeed','number'], axis=1)\n",
    "races.drop(['positionOrder'], axis=1, inplace=True)\n",
    "races['position'].fillna('NaN', inplace=True)\n",
    "#display(races.isna().sum())\n",
    "assert races.isna().sum().sum() == 0, 'there are null values'\n",
    "\n",
    "# Get race data (ignoring qualifying data)\n",
    "races_raw_df.rename(columns={'name':'Race'}, inplace=True)\n",
    "prev_len = races.shape[0]\n",
    "races = races.merge(races_raw_df[['raceId','Race','round','circuitId','date','url']], on='raceId', how='left')\n",
    "assert races.shape[0] == prev_len, 'confirm no duplicates formed during merge'\n",
    "assert races.isna().sum().sum() == 0\n",
    "\n",
    "# Explode date\n",
    "races['date'] = pd.to_datetime(races['date'])\n",
    "races['Month'] = races['date'].dt.month\n",
    "races['Year'] = races['date'].dt.year\n",
    "#races.drop(['date'], axis=1, inplace=True)\n",
    "\n",
    "# Filter year due to bad quality data in early years (multiple results reported for a driver in a race) -- see EDA for details\n",
    "races = races[races['Year']>1964].reset_index(drop=True)\n",
    "assert races.groupby(['raceId','driverId'])['position'].nunique().max()==1, 'there are multiple positions reported for a driver in a race'\n",
    "\n",
    "# Merge with drivers\n",
    "prev_len = races.shape[0]\n",
    "races = races.merge(drivers[['driverId','Name']], on='driverId', how='left')\n",
    "assert races.shape[0] == prev_len, 'confirm no duplicates formed during merge'\n",
    "assert races['Name'].isna().sum() == 0\n",
    "\n",
    "\n",
    "# # Filter for drivers of interest\n",
    "# races = races[races['Name'].isin(driver_names_of_interest)].reset_index(drop=True)\n",
    "# assert races['driverId'].nunique() == len(driver_ids_of_interest), 'confirm we have lap data for all drivers of interest'\n",
    "# #races.drop(['driverId'], axis=1, inplace=True)\n",
    "# assert races.groupby(['raceId','Name']).size().max() == 1, 'driver occurs twice in a race'\n",
    "# assert races.groupby(['raceId','driverId'])['position'].nunique().max() == 1\n",
    "\n",
    "\n",
    "# Get status string\n",
    "prev_len = races.shape[0]\n",
    "races = races.merge(status_raw_df[['statusId','status']], on='statusId', how='left')\n",
    "assert races['status'].isna().sum() == 0\n",
    "assert races.shape[0] == prev_len, 'confirm no duplicates formed during merge'\n",
    "races.drop(['statusId'], axis=1, inplace=True)\n",
    "\n",
    "\n",
    "# Get car name\n",
    "prev_len = races.shape[0]\n",
    "constructors_raw_df.rename(columns={'name':'Car'}, inplace=True)\n",
    "car_names = constructors_raw_df['Car'].unique()\n",
    "races = races.merge(constructors_raw_df[['constructorId','Car']], on='constructorId', how='left')\n",
    "assert races.shape[0] == prev_len, 'confirm no duplicates formed during merge'\n",
    "assert races['Car'].isna().sum() == 0\n",
    "races.drop(['constructorId'], axis=1, inplace=True)\n",
    "\n",
    "\n",
    "# Get circuit data\n",
    "prev_len = races.shape[0]\n",
    "circuits_raw_df.rename(columns={'name':'Circuit'}, inplace=True)\n",
    "circuits_raw_df['alt'].fillna(circuits_raw_df['alt'].median(), inplace=True) # impute median altitude -- #todo may want to change\n",
    "races = races.merge(circuits_raw_df[['circuitId','Circuit','location','country','alt','lat','lng']], on='circuitId', how='left')\n",
    "assert races.shape[0] == prev_len, 'confirm no duplicates formed during merge'\n",
    "assert races.isna().sum().sum() == 0\n",
    "races.drop(['circuitId'], axis=1, inplace=True)\n",
    "\n",
    "# Get number of laps in the race\n",
    "number_of_laps = results_raw_df[results_raw_df['statusId']==1].groupby(['raceId'])['laps'].max().reset_index(name='nlaps')\n",
    "assert races.isna().sum().sum() == 0, 'there is at least one race where none of the drivers finished -- cannot find number of laps in the race'\n",
    "prev_len = races.shape[0]\n",
    "races = races.merge(number_of_laps, on='raceId',how='left')\n",
    "assert races.shape[0] == prev_len, 'confirm no duplicates formed during merge'\n",
    "assert races.isna().sum().sum() == 0, 'there is at least one race where none of the drivers finished -- cannot find number of laps in the race'\n",
    "races.drop(['laps'], axis=1, inplace=True)\n",
    "\n",
    "\n",
    "\n",
    "# Summary\n",
    "print('First year:',  races['Year'].min())\n",
    "print('# Races:', races['raceId'].nunique())"
   ]
  },
  {
   "cell_type": "code",
   "execution_count": 6,
   "metadata": {},
   "outputs": [],
   "source": [
    "# # Race Model Filters\n",
    "\n",
    "# # filter for races with 32 or fewer drivers\n",
    "# prev_n_races = races['raceId'].nunique()\n",
    "\n",
    "# valid_races = races.groupby('raceId').size()\n",
    "# valid_races = valid_races[valid_races<=32].index\n",
    "# races = races[races['raceId'].isin(valid_races)].reset_index(drop=True)\n",
    "# print('Races removed:', prev_n_races - races['raceId'].nunique(), '({} races now)'.format(races['raceId'].nunique()))\n",
    "\n"
   ]
  },
  {
   "cell_type": "code",
   "execution_count": 7,
   "metadata": {},
   "outputs": [
    {
     "name": "stdout",
     "output_type": "stream",
     "text": [
      "Races removed: 0\n"
     ]
    }
   ],
   "source": [
    "## Dynamic race model filters\n",
    "\n",
    "# when number of race laps < k + threshold\n",
    "k = 10\n",
    "threshold = k*2\n",
    "prev_n_races = races['raceId'].nunique()\n",
    "race_counts = races['raceId'].value_counts()\n",
    "valid_races = race_counts[race_counts > 10].index\n",
    "races = races[races['raceId'].isin(valid_races)].reset_index(drop=True)\n",
    "print('Races removed:', prev_n_races - races['raceId'].nunique())"
   ]
  },
  {
   "cell_type": "code",
   "execution_count": 8,
   "metadata": {},
   "outputs": [
    {
     "name": "stdout",
     "output_type": "stream",
     "text": [
      "unique races 960\n"
     ]
    }
   ],
   "source": [
    "print('unique races', races['raceId'].nunique())"
   ]
  },
  {
   "cell_type": "code",
   "execution_count": 9,
   "metadata": {},
   "outputs": [
    {
     "name": "stdout",
     "output_type": "stream",
     "text": [
      "(10384, 4)\n",
      "(4712, 4)\n",
      "asdf\n",
      "(10384, 2)\n",
      "(4712, 2)\n",
      "final lap\n",
      "(4712, 6)\n",
      "(4712, 2)\n"
     ]
    }
   ],
   "source": [
    "laptimesEDA = laptimes_raw_df[laptimes_raw_df['raceId'].isin(races['raceId'].unique())].reset_index(drop=True)[['raceId','driverId','lap','position','milliseconds']]\n",
    "final_laps = laptimesEDA.groupby('raceId')['lap'].max().reset_index(name='final_lap')\n",
    "\n",
    "race_driver_n_laps = laptimesEDA.groupby(['raceId','driverId'])['lap'].max().reset_index(name='race_driver_n_laps')\n",
    "race_driver_n_laps\n",
    "\n",
    "valid_race_driver_n_laps = race_driver_n_laps.merge(final_laps, how='left', on='raceId')\n",
    "print(valid_race_driver_n_laps.shape)\n",
    "valid_race_driver_n_laps = valid_race_driver_n_laps[valid_race_driver_n_laps['race_driver_n_laps']==valid_race_driver_n_laps['final_lap']].reset_index(drop=True)\n",
    "print(valid_race_driver_n_laps.shape)\n",
    "\n",
    "print('asdf')\n",
    "\n",
    "print(laptimesEDA[['raceId','driverId']].drop_duplicates().shape)\n",
    "laptimesEDA = laptimesEDA.merge(valid_race_driver_n_laps[['raceId','driverId','final_lap']], on=['raceId','driverId'], how='right')\n",
    "laptimesEDA\n",
    "print(laptimesEDA[['raceId','driverId']].drop_duplicates().shape)\n",
    "\n",
    "\n",
    "#lap_n = \n",
    "print('final lap')\n",
    "final_lap = laptimesEDA[laptimesEDA['lap']==laptimesEDA['final_lap']].reset_index(drop=True)#[['raceId','driverId','p']]\n",
    "final_lap.rename(columns={'position':'final_position'}, inplace=True)\n",
    "print(final_lap.shape)\n",
    "print(final_lap[['raceId','driverId']].shape)\n",
    "\n",
    "# N = 1\n",
    "# lap_n = laptimesEDA[laptimesEDA['lap']==N].reset_index(drop=True)\n",
    "# lap_n\n",
    "# print('lapn shape', lap_n.shape)\n",
    "\n",
    "\n",
    "# assert final_lap[['raceId','driverId']].equals(lap_n[['raceId','driverId']])\n",
    "\n",
    "\n",
    "laptimesEDApivot = laptimesEDA.pivot_table(index=['raceId','driverId'], columns='lap', values='position').reset_index(drop=False)\n",
    "laptimesEDApivot\n",
    "assert final_lap[['raceId','driverId']].equals(laptimesEDApivot[['raceId','driverId']])\n",
    "\n",
    "laps = laptimesEDApivot.merge(final_lap, on=['raceId','driverId'], how='left')\n"
   ]
  },
  {
   "cell_type": "code",
   "execution_count": 10,
   "metadata": {},
   "outputs": [
    {
     "data": {
      "image/png": "[encoded data removed]",
      "text/plain": [
       "<Figure size 1080x144 with 2 Axes>"
      ]
     },
     "metadata": {
      "needs_background": "light"
     },
     "output_type": "display_data"
    }
   ],
   "source": [
    "corr_matrix = laps[list(range(1,11)) + ['final_position']].corr()\n",
    "corr_matrix = corr_matrix.loc[['final_position']]\n",
    "\n",
    "# Plot the heatmap\n",
    "plt.figure(figsize=(15, 2))\n",
    "plt.title('Position at Lap Pearson Correlation with Finishing Position', fontsize=14)\n",
    "sns.heatmap(corr_matrix, annot=True, fmt='.3f', annot_kws={'size': 10}, vmin=-1, vmax=1, cmap='viridis')\n",
    "plt.xticks(rotation=45)\n",
    "plt.xlabel('Lap')\n",
    "plt.savefig('eda_visualizations/position_at_lap_correlation.png', bbox_inches='tight')"
   ]
  },
  {
   "cell_type": "code",
   "execution_count": 11,
   "metadata": {},
   "outputs": [
    {
     "data": {
      "image/png": "[encoded data removed]",
      "text/plain": [
       "<Figure size 1080x144 with 2 Axes>"
      ]
     },
     "metadata": {
      "needs_background": "light"
     },
     "output_type": "display_data"
    }
   ],
   "source": [
    "\n",
    "corr_matrix = laps[list(range(1,11)) + ['final_position']].corr(method = 'spearman')\n",
    "corr_matrix = corr_matrix.loc[['final_position']] \n",
    "\n",
    "# Plot the heatmap\n",
    "plt.figure(figsize=(15, 2))\n",
    "plt.title('Position at Lap Spearman Rank Correlation with Finishing Position', fontsize=14)\n",
    "sns.heatmap(corr_matrix, annot=True, fmt='.3f', annot_kws={'size': 10}, vmin=-1, vmax=1, cmap='viridis')\n",
    "plt.xticks(rotation=45)\n",
    "plt.xlabel('Lap')\n",
    "plt.savefig('eda_visualizations/position_at_lap_spearman_correlation.png', bbox_inches='tight')"
   ]
  }
 ],
 "metadata": {
  "kernelspec": {
   "display_name": "Python 3",
   "language": "python",
   "name": "python3"
  },
  "language_info": {
   "codemirror_mode": {
    "name": "ipython",
    "version": 3
   },
   "file_extension": ".py",
   "mimetype": "text/x-python",
   "name": "python",
   "nbconvert_exporter": "python",
   "pygments_lexer": "ipython3",
   "version": "3.7.11"
  }
 },
 "nbformat": 4,
 "nbformat_minor": 2
}

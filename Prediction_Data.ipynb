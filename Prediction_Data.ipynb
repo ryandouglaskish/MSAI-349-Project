{
 "cells": [
  {
   "cell_type": "code",
   "execution_count": 8,
   "metadata": {},
   "outputs": [],
   "source": [
    "import pandas as pd\n",
    "import numpy as np"
   ]
  },
  {
   "cell_type": "markdown",
   "metadata": {},
   "source": []
  },
  {
   "cell_type": "markdown",
   "metadata": {},
   "source": [
    "# Load data"
   ]
  },
  {
   "cell_type": "code",
   "execution_count": 9,
   "metadata": {},
   "outputs": [
    {
     "name": "stdout",
     "output_type": "stream",
     "text": [
      "circuits_raw_df Index(['circuitId', 'circuitRef', 'name', 'location', 'country', 'lat', 'lng',\n",
      "       'alt', 'url'],\n",
      "      dtype='object')\n",
      "constructors_raw_df Index(['constructorId', 'constructorRef', 'name', 'nationality', 'url'], dtype='object')\n",
      "constructor_standings_raw_df Index(['constructorStandingsId', 'raceId', 'constructorId', 'points',\n",
      "       'position', 'positionText', 'wins'],\n",
      "      dtype='object')\n",
      "driver_standings_raw_df Index(['driverStandingsId', 'raceId', 'driverId', 'points', 'position',\n",
      "       'positionText', 'wins'],\n",
      "      dtype='object')\n",
      "drivers_raw_df Index(['driverId', 'driverRef', 'number', 'code', 'forename', 'surname', 'dob',\n",
      "       'nationality', 'url'],\n",
      "      dtype='object')\n",
      "laptimes_raw_df Index(['raceId', 'driverId', 'lap', 'position', 'time', 'milliseconds'], dtype='object')\n",
      "pitstops_raw_df Index(['raceId', 'driverId', 'stop', 'lap', 'time', 'duration',\n",
      "       'milliseconds'],\n",
      "      dtype='object')\n",
      "qualifying_raw_df Index(['qualifyId', 'raceId', 'driverId', 'constructorId', 'number',\n",
      "       'position', 'q1', 'q2', 'q3'],\n",
      "      dtype='object')\n",
      "races_raw_df Index(['raceId', 'year', 'round', 'circuitId', 'name', 'date', 'time', 'url',\n",
      "       'fp1_date', 'fp1_time', 'fp2_date', 'fp2_time', 'fp3_date', 'fp3_time',\n",
      "       'quali_date', 'quali_time', 'sprint_date', 'sprint_time'],\n",
      "      dtype='object')\n",
      "results_raw_df Index(['resultId', 'raceId', 'driverId', 'constructorId', 'number', 'grid',\n",
      "       'position', 'positionText', 'positionOrder', 'points', 'laps', 'time',\n",
      "       'milliseconds', 'fastestLap', 'rank', 'fastestLapTime',\n",
      "       'fastestLapSpeed', 'statusId'],\n",
      "      dtype='object')\n",
      "seasons_raw_df Index(['year', 'url'], dtype='object')\n",
      "sprint_results Index(['resultId', 'raceId', 'driverId', 'constructorId', 'number', 'grid',\n",
      "       'position', 'positionText', 'positionOrder', 'points', 'laps', 'time',\n",
      "       'milliseconds', 'fastestLap', 'fastestLapTime', 'statusId'],\n",
      "      dtype='object')\n",
      "status_raw_df Index(['statusId', 'status'], dtype='object')\n"
     ]
    }
   ],
   "source": [
    "def load_kaggle_data(path):\n",
    "    data = pd.read_csv(path)\n",
    "    data.replace({'\\\\N':np.nan}, inplace=True)\n",
    "    return data\n",
    "\n",
    "data_dir ='kaggle-data/'\n",
    "\n",
    "circuits_raw_df = load_kaggle_data(f'{data_dir}/circuits.csv')\n",
    "constructors_raw_df = load_kaggle_data(f'{data_dir}/constructors.csv')\n",
    "constructor_standings_raw_df = load_kaggle_data(f'{data_dir}/constructor_standings.csv')\n",
    "driver_standings_raw_df = load_kaggle_data(f'{data_dir}/driver_standings.csv')\n",
    "drivers_raw_df = load_kaggle_data(f'{data_dir}/drivers.csv')\n",
    "laptimes_raw_df = load_kaggle_data(f'{data_dir}/lap_times.csv')\n",
    "pitstops_raw_df = load_kaggle_data(f'{data_dir}/pit_stops.csv')\n",
    "qualifying_raw_df = load_kaggle_data(f'{data_dir}/qualifying.csv')\n",
    "races_raw_df = load_kaggle_data(f'{data_dir}/races.csv')\n",
    "results_raw_df = load_kaggle_data(f'{data_dir}/results.csv')\n",
    "seasons_raw_df = load_kaggle_data(f'{data_dir}/seasons.csv')\n",
    "sprint_results = load_kaggle_data(f'{data_dir}/sprint_results.csv')\n",
    "status_raw_df = load_kaggle_data(f'{data_dir}/status.csv')\n",
    "\n",
    "print('circuits_raw_df', circuits_raw_df.columns)\n",
    "print('constructors_raw_df', constructors_raw_df.columns)\n",
    "print('constructor_standings_raw_df', constructor_standings_raw_df.columns)\n",
    "print('driver_standings_raw_df', driver_standings_raw_df.columns)\n",
    "print('drivers_raw_df', drivers_raw_df.columns)\n",
    "print('laptimes_raw_df', laptimes_raw_df.columns)\n",
    "print('pitstops_raw_df', pitstops_raw_df.columns)\n",
    "print('qualifying_raw_df', qualifying_raw_df.columns)\n",
    "print('races_raw_df', races_raw_df.columns)\n",
    "print('results_raw_df', results_raw_df.columns)\n",
    "print('seasons_raw_df', seasons_raw_df.columns)\n",
    "print('sprint_results', sprint_results.columns)\n",
    "print('status_raw_df', status_raw_df.columns)"
   ]
  },
  {
   "cell_type": "code",
   "execution_count": 12,
   "metadata": {},
   "outputs": [],
   "source": [
    "n_races_full = results_raw_df.groupby(['raceId']).size().shape[0]\n",
    "n_results_full = results_raw_df.shape[0]"
   ]
  },
  {
   "cell_type": "markdown",
   "metadata": {},
   "source": [
    "# Merges"
   ]
  },
  {
   "cell_type": "code",
   "execution_count": null,
   "metadata": {},
   "outputs": [],
   "source": []
  },
  {
   "cell_type": "markdown",
   "metadata": {},
   "source": [
    "# Filters\n",
    "- We are using X???? laps -- filter for races with scale * X laps\n",
    "- ....????"
   ]
  },
  {
   "cell_type": "code",
   "execution_count": null,
   "metadata": {},
   "outputs": [],
   "source": []
  },
  {
   "cell_type": "markdown",
   "metadata": {},
   "source": [
    "# Save"
   ]
  },
  {
   "cell_type": "code",
   "execution_count": 6,
   "metadata": {},
   "outputs": [],
   "source": [
    "# data.to_csv('data/data.csv', index=False)"
   ]
  },
  {
   "cell_type": "markdown",
   "metadata": {},
   "source": [
    "# Visualize data filtering (RK)\n",
    "- Show number of races in data\n",
    "- Then number of races after driver filter\n",
    "- Show number of races after other filters"
   ]
  },
  {
   "cell_type": "code",
   "execution_count": null,
   "metadata": {},
   "outputs": [],
   "source": [
    "n_races_full = results_raw_df.groupby(['raceId']).size().shape[0]\n",
    "n_results_full = results_raw_df.shape[0]"
   ]
  }
 ],
 "metadata": {
  "kernelspec": {
   "display_name": "Python 3",
   "language": "python",
   "name": "python3"
  },
  "language_info": {
   "codemirror_mode": {
    "name": "ipython",
    "version": 3
   },
   "file_extension": ".py",
   "mimetype": "text/x-python",
   "name": "python",
   "nbconvert_exporter": "python",
   "pygments_lexer": "ipython3",
   "version": "3.7.11"
  }
 },
 "nbformat": 4,
 "nbformat_minor": 2
}

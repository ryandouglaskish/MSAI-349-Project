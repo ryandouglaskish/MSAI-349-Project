{
 "cells": [
  {
   "cell_type": "code",
   "execution_count": 8,
   "metadata": {},
   "outputs": [],
   "source": [
    "import pandas as pd\n",
    "import numpy as np"
   ]
  },
  {
   "cell_type": "markdown",
   "metadata": {},
   "source": []
  },
  {
   "cell_type": "markdown",
   "metadata": {},
   "source": [
    "# Load data"
   ]
  },
  {
   "cell_type": "code",
   "execution_count": 9,
   "metadata": {},
   "outputs": [
    {
     "name": "stdout",
     "output_type": "stream",
     "text": [
      "circuits_raw_df Index(['circuitId', 'circuitRef', 'name', 'location', 'country', 'lat', 'lng',\n",
      "       'alt', 'url'],\n",
      "      dtype='object')\n",
      "constructors_raw_df Index(['constructorId', 'constructorRef', 'name', 'nationality', 'url'], dtype='object')\n",
      "constructor_standings_raw_df Index(['constructorStandingsId', 'raceId', 'constructorId', 'points',\n",
      "       'position', 'positionText', 'wins'],\n",
      "      dtype='object')\n",
      "driver_standings_raw_df Index(['driverStandingsId', 'raceId', 'driverId', 'points', 'position',\n",
      "       'positionText', 'wins'],\n",
      "      dtype='object')\n",
      "drivers_raw_df Index(['driverId', 'driverRef', 'number', 'code', 'forename', 'surname', 'dob',\n",
      "       'nationality', 'url'],\n",
      "      dtype='object')\n",
      "laptimes_raw_df Index(['raceId', 'driverId', 'lap', 'position', 'time', 'milliseconds'], dtype='object')\n",
      "pitstops_raw_df Index(['raceId', 'driverId', 'stop', 'lap', 'time', 'duration',\n",
      "       'milliseconds'],\n",
      "      dtype='object')\n",
      "qualifying_raw_df Index(['qualifyId', 'raceId', 'driverId', 'constructorId', 'number',\n",
      "       'position', 'q1', 'q2', 'q3'],\n",
      "      dtype='object')\n",
      "races_raw_df Index(['raceId', 'year', 'round', 'circuitId', 'name', 'date', 'time', 'url',\n",
      "       'fp1_date', 'fp1_time', 'fp2_date', 'fp2_time', 'fp3_date', 'fp3_time',\n",
      "       'quali_date', 'quali_time', 'sprint_date', 'sprint_time'],\n",
      "      dtype='object')\n",
      "results_raw_df Index(['resultId', 'raceId', 'driverId', 'constructorId', 'number', 'grid',\n",
      "       'position', 'positionText', 'positionOrder', 'points', 'laps', 'time',\n",
      "       'milliseconds', 'fastestLap', 'rank', 'fastestLapTime',\n",
      "       'fastestLapSpeed', 'statusId'],\n",
      "      dtype='object')\n",
      "seasons_raw_df Index(['year', 'url'], dtype='object')\n",
      "sprint_results Index(['resultId', 'raceId', 'driverId', 'constructorId', 'number', 'grid',\n",
      "       'position', 'positionText', 'positionOrder', 'points', 'laps', 'time',\n",
      "       'milliseconds', 'fastestLap', 'fastestLapTime', 'statusId'],\n",
      "      dtype='object')\n",
      "status_raw_df Index(['statusId', 'status'], dtype='object')\n"
     ]
    }
   ],
   "source": [
    "def load_kaggle_data(path):\n",
    "    data = pd.read_csv(path)\n",
    "    data.replace({'\\\\N':np.nan}, inplace=True)\n",
    "    return data\n",
    "\n",
    "data_dir ='kaggle-data/'\n",
    "\n",
    "circuits_raw_df = load_kaggle_data(f'{data_dir}/circuits.csv')\n",
    "constructors_raw_df = load_kaggle_data(f'{data_dir}/constructors.csv')\n",
    "constructor_standings_raw_df = load_kaggle_data(f'{data_dir}/constructor_standings.csv')\n",
    "driver_standings_raw_df = load_kaggle_data(f'{data_dir}/driver_standings.csv')\n",
    "drivers_raw_df = load_kaggle_data(f'{data_dir}/drivers.csv')\n",
    "laptimes_raw_df = load_kaggle_data(f'{data_dir}/lap_times.csv')\n",
    "pitstops_raw_df = load_kaggle_data(f'{data_dir}/pit_stops.csv')\n",
    "qualifying_raw_df = load_kaggle_data(f'{data_dir}/qualifying.csv')\n",
    "races_raw_df = load_kaggle_data(f'{data_dir}/races.csv')\n",
    "results_raw_df = load_kaggle_data(f'{data_dir}/results.csv')\n",
    "seasons_raw_df = load_kaggle_data(f'{data_dir}/seasons.csv')\n",
    "sprint_results = load_kaggle_data(f'{data_dir}/sprint_results.csv')\n",
    "status_raw_df = load_kaggle_data(f'{data_dir}/status.csv')\n",
    "\n",
    "print('circuits_raw_df', circuits_raw_df.columns)\n",
    "print('constructors_raw_df', constructors_raw_df.columns)\n",
    "print('constructor_standings_raw_df', constructor_standings_raw_df.columns)\n",
    "print('driver_standings_raw_df', driver_standings_raw_df.columns)\n",
    "print('drivers_raw_df', drivers_raw_df.columns)\n",
    "print('laptimes_raw_df', laptimes_raw_df.columns)\n",
    "print('pitstops_raw_df', pitstops_raw_df.columns)\n",
    "print('qualifying_raw_df', qualifying_raw_df.columns)\n",
    "print('races_raw_df', races_raw_df.columns)\n",
    "print('results_raw_df', results_raw_df.columns)\n",
    "print('seasons_raw_df', seasons_raw_df.columns)\n",
    "print('sprint_results', sprint_results.columns)\n",
    "print('status_raw_df', status_raw_df.columns)"
   ]
  },
  {
   "cell_type": "code",
   "execution_count": 12,
   "metadata": {},
   "outputs": [],
   "source": [
    "n_races_full = results_raw_df.groupby(['raceId']).size().shape[0]\n",
    "n_results_full = results_raw_df.shape[0]"
   ]
  },
  {
   "cell_type": "markdown",
   "metadata": {},
   "source": [
    "# Merges"
   ]
  },
  {
   "cell_type": "code",
   "execution_count": null,
   "metadata": {},
   "outputs": [],
   "source": []
  },
  {
   "cell_type": "markdown",
   "metadata": {},
   "source": [
    "# Filters\n",
    "- We are using X???? laps -- filter for races with scale * X laps\n",
    "- ....????"
   ]
  },
  {
   "cell_type": "code",
   "execution_count": null,
   "metadata": {},
   "outputs": [],
   "source": []
  },
  {
   "cell_type": "markdown",
   "metadata": {},
   "source": [
    "# Save"
   ]
  },
  {
   "cell_type": "code",
   "execution_count": 6,
   "metadata": {},
   "outputs": [],
   "source": [
    "# data.to_csv('data/data.csv', index=False)"
   ]
  },
  {
   "cell_type": "markdown",
   "metadata": {},
   "source": [
    "# Visualize data filtering (RK)\n",
    "- Show number of races in data\n",
    "- Then number of races after driver filter\n",
    "- Show number of races after other filters"
   ]
  },
  {
   "cell_type": "code",
   "execution_count": 13,
   "metadata": {},
   "outputs": [
    {
     "ename": "NameError",
     "evalue": "name 'n_races_drivers' is not defined",
     "output_type": "error",
     "traceback": [
      "\u001b[0;31m---------------------------------------------------------------------------\u001b[0m",
      "\u001b[0;31mNameError\u001b[0m                                 Traceback (most recent call last)",
      "\u001b[0;32m/var/folders/0_/l2f6y30903g7mz5xvt_k05mh0000gn/T/ipykernel_89018/3470304134.py\u001b[0m in \u001b[0;36m<module>\u001b[0;34m\u001b[0m\n\u001b[1;32m      3\u001b[0m \u001b[0;34m\u001b[0m\u001b[0m\n\u001b[1;32m      4\u001b[0m \u001b[0;34m\u001b[0m\u001b[0m\n\u001b[0;32m----> 5\u001b[0;31m \u001b[0mprogression\u001b[0m \u001b[0;34m=\u001b[0m \u001b[0mpd\u001b[0m\u001b[0;34m.\u001b[0m\u001b[0mDataFrame\u001b[0m\u001b[0;34m(\u001b[0m\u001b[0;34m{\u001b[0m\u001b[0;34m'N'\u001b[0m\u001b[0;34m:\u001b[0m \u001b[0;34m[\u001b[0m\u001b[0mn_races_full\u001b[0m\u001b[0;34m,\u001b[0m \u001b[0mn_races_drivers\u001b[0m\u001b[0;34m,\u001b[0m \u001b[0mn_races_filters\u001b[0m\u001b[0;34m]\u001b[0m\u001b[0;34m}\u001b[0m\u001b[0;34m,\u001b[0m \u001b[0mindex\u001b[0m\u001b[0;34m=\u001b[0m\u001b[0;34m[\u001b[0m\u001b[0;34m'Full Dataset'\u001b[0m\u001b[0;34m,\u001b[0m\u001b[0;34m'Filtered for Drivers of Interest'\u001b[0m\u001b[0;34m,\u001b[0m\u001b[0;34m'Filtered for Model Validity'\u001b[0m\u001b[0;34m,\u001b[0m\u001b[0;34m]\u001b[0m\u001b[0;34m)\u001b[0m\u001b[0;34m.\u001b[0m\u001b[0mreset_index\u001b[0m\u001b[0;34m(\u001b[0m\u001b[0;34m)\u001b[0m\u001b[0;34m\u001b[0m\u001b[0;34m\u001b[0m\u001b[0m\n\u001b[0m\u001b[1;32m      6\u001b[0m \u001b[0mfig\u001b[0m\u001b[0;34m,\u001b[0m \u001b[0max\u001b[0m \u001b[0;34m=\u001b[0m \u001b[0mplt\u001b[0m\u001b[0;34m.\u001b[0m\u001b[0msubplots\u001b[0m\u001b[0;34m(\u001b[0m\u001b[0;36m1\u001b[0m\u001b[0;34m)\u001b[0m\u001b[0;34m\u001b[0m\u001b[0;34m\u001b[0m\u001b[0m\n\u001b[1;32m      7\u001b[0m \u001b[0;34m\u001b[0m\u001b[0m\n",
      "\u001b[0;31mNameError\u001b[0m: name 'n_races_drivers' is not defined"
     ]
    }
   ],
   "source": [
    "n_races_full = results_raw_df.groupby(['raceId']).size().shape[0]\n",
    "n_results_full = results_raw_df.shape[0]\n",
    "\n",
    "\n",
    "progression = pd.DataFrame({'N': [n_races_full, n_races_drivers, n_races_filters]}, index=['Full Dataset','Filtered for Drivers of Interest','Filtered for Model Validity',]).reset_index()\n",
    "fig, ax = plt.subplots(1)\n",
    "\n",
    "fig, ax = plt.subplots(1)\n",
    "y = list(reversed(progression.index.tolist())) #[5,4,3,2,1]\n",
    "x = progression['N'] # the values\n",
    "labels = progression['index'] # the labels\n",
    "x_max = 4000\n",
    "x_min = 0\n",
    "x_range = x_max-x_min\n",
    "\n",
    "for idx, val in enumerate(x):\n",
    "    left = (x_range - val)/2\n",
    "    #left = 2000\n",
    "    plt.barh(y[idx], x[idx], left = left, \n",
    "             color='b', height=.8)\n",
    "    # label\n",
    "    plt.text((x_min + x_range/2), y[idx]+0.1, labels[idx], ha='center',\n",
    "              fontsize=16, color='white')\n",
    "    # # value\n",
    "    plt.text((x_min + x_range/2), y[idx]-0.3, x[idx], ha='center',\n",
    "             fontsize=16, color='white')\n",
    "    \n",
    "    if idx != len(x)-1:\n",
    "        next_left = (x_range - x[idx+1])/2\n",
    "        # shadow_x = [left, next_left, \n",
    "        #             x_max-next_left, x_max-left, left]\n",
    "        \n",
    "        shadow_y = [y[idx]-0.4, y[idx+1]+0.4, \n",
    "                    y[idx+1]+0.4, y[idx]-0.4, y[idx]-0.4]\n",
    "        # shadow_y = [y[idx]-0.1, y[idx+1]+0.4, \n",
    "        #             y[idx+1]+0.4, y[idx]-0.1, y[idx]-0.4]\n",
    "        plt.fill(shadow_x, shadow_y, color='grey', alpha=0.6)\n",
    "plt.xlim(x_min, x_max)\n",
    "plt.axis('off')\n",
    "plt.title('Data Funnel', loc='center', fontsize=24, color='#2A2A2A')"
   ]
  },
  {
   "cell_type": "code",
   "execution_count": null,
   "metadata": {},
   "outputs": [],
   "source": []
  }
 ],
 "metadata": {
  "kernelspec": {
   "display_name": "Python 3",
   "language": "python",
   "name": "python3"
  },
  "language_info": {
   "codemirror_mode": {
    "name": "ipython",
    "version": 3
   },
   "file_extension": ".py",
   "mimetype": "text/x-python",
   "name": "python",
   "nbconvert_exporter": "python",
   "pygments_lexer": "ipython3",
   "version": "3.7.11"
  }
 },
 "nbformat": 4,
 "nbformat_minor": 2
}
